{
 "cells": [
  {
   "cell_type": "markdown",
   "metadata": {},
   "source": [
    "# Simple Bayesian Auditory Scene Analysis \n",
    "\n",
    "We are going to implement a simple model which can organize tones into streams, inferring the perceptual organization from the cochleagram. In order to do approximate posterior inference, we will implement a set of MCMC moves that can operate on this relatively complex trace (as compared to the previous models we looked at)."
   ]
  },
  {
   "cell_type": "code",
   "execution_count": null,
   "metadata": {},
   "outputs": [],
   "source": [
    "using Gen\n",
    "using PyPlot\n",
    "using Statistics: mean, std;\n",
    "\n",
    "#We'll need a few extra functions which are stored in julia scripts\n",
    "#for generating soundwaves from latent varibles\n",
    "include(\"./rendering.jl\") \n",
    "#for our likelihood function & some special proposal distributions\n",
    "include(\"./extra_distributions.jl\")\n",
    "#to generate our cochleagram\n",
    "include(\"./gammatonegram.jl\")\n",
    "#to visualize the trace\n",
    "include(\"./plotting.jl\");"
   ]
  },
  {
   "cell_type": "markdown",
   "metadata": {},
   "source": [
    "## Generative Model"
   ]
  },
  {
   "cell_type": "markdown",
   "metadata": {},
   "source": [
    "We'll write out the generative model one level of hierarchy at a time. We'll start with a single tone. Write out the following priors:\n",
    "- :gap ~ gamma(2, 0.1)\n",
    "- :duration ~ gamma(2, 0.1) + 0.050\n",
    "- :f0 ~ normal(mu, 3.0)"
   ]
  },
  {
   "cell_type": "code",
   "execution_count": null,
   "metadata": {},
   "outputs": [],
   "source": [
    "#= \n",
    "We'll use a minimum duration for our tones so that they're always audible\n",
    "\"@dist\" allows the user to concisely define a distribution, \n",
    "as long as that distribution can be expressed as a certain type \n",
    "of deterministic transformation of an existing distribution. \n",
    "=#\n",
    "@dist dur_dist(shape, scale, min_duration) = gamma(shape, scale) + min_duration\n",
    "\n",
    "@gen function tone_latents(mu::Float64)\n",
    "    \n",
    "    gap = #TO DO\n",
    "    tone_duration = #TO DO\n",
    "    f0 = #TO DO\n",
    "    \n",
    "    return gap, tone_duration, f0\n",
    "    \n",
    "end;"
   ]
  },
  {
   "cell_type": "markdown",
   "metadata": {},
   "source": [
    "We'll write a function which samples an entire tone_sequence. How should we sample from tone_latents if we want the addresses to look like `(:tone, 1) => :mu`?"
   ]
  },
  {
   "cell_type": "code",
   "execution_count": null,
   "metadata": {},
   "outputs": [],
   "source": [
    "@gen function tone_sequence_latents(mu::Float64, n_tones::Int)\n",
    "    \n",
    "    ## Generate tones\n",
    "    # First collect all the tone-level latent variables\n",
    "    onsets = Vector{Float64}(undef, n_tones)\n",
    "    offsets = Vector{Float64}(undef, n_tones)\n",
    "    f0s = Vector{Float64}(undef, n_tones)\n",
    "    for tone_idx=1:n_tones\n",
    "        gap, tone_duration, f0s[tone_idx] = #TO DO\n",
    "        onsets[tone_idx] = (tone_idx == 1 ? 0 : offsets[tone_idx - 1]) + gap; \n",
    "        offsets[tone_idx] = onsets[tone_idx] + tone_duration; \n",
    "    end\n",
    "\n",
    "    return onsets, offsets, f0s\n",
    "    \n",
    "end;"
   ]
  },
  {
   "cell_type": "markdown",
   "metadata": {},
   "source": [
    "Write a generative function to sample the source-level latents. Write `part_dist` to create a geometric distribution that begins at 1 rather than 0."
   ]
  },
  {
   "cell_type": "code",
   "execution_count": null,
   "metadata": {},
   "outputs": [],
   "source": [
    "@dist part_dist(lambda) = #TO DO\n",
    "\n",
    "@gen function source_latents(audio_sr::Int)\n",
    "    \n",
    "    # Source Parameters \n",
    "    mu = @trace(uniform(freq_to_ERB(20.0), freq_to_ERB(audio_sr/2.)), :mu)\n",
    "    # Number of tones \n",
    "    n_tones = @trace(part_dist(0.2), :n_tones)\n",
    "    \n",
    "    return mu, n_tones\n",
    "    \n",
    "end;"
   ]
  },
  {
   "cell_type": "markdown",
   "metadata": {},
   "source": [
    "Now we'll put this all together in a function that both samples a source, its melody, and then generates the actual sound produced by the source. First we sample all of the latents, and then we render our source waveform."
   ]
  },
  {
   "cell_type": "code",
   "execution_count": null,
   "metadata": {},
   "outputs": [],
   "source": [
    "@gen function generate_source(audio_sr::Int, scene_duration::Float64)\n",
    "    \n",
    "    ## Generate source-level latent variables \n",
    "    mu, n_tones = @trace(source_latents(audio_sr))\n",
    "    ## Generate tone-level latent variables \n",
    "    onsets, offsets, f0s = @trace(tone_sequence_latents(mu, n_tones))\n",
    "    \n",
    "    # Then generate the actual sound wave for each element, calling out to the renderer\n",
    "    element_waves = [generate_tone_wave(f0s[tone_idx], onsets[tone_idx], \n",
    "            offsets[tone_idx], audio_sr, scene_duration) for tone_idx = 1:n_tones]\n",
    "\n",
    "    #Sum over all tones to produce source waveform \n",
    "    n_samples = Int(floor(scene_duration*audio_sr));\n",
    "    source_wave = reduce(+, element_waves; init=zeros(n_samples))\n",
    "\n",
    "    return source_wave\n",
    "    \n",
    "end;"
   ]
  },
  {
   "cell_type": "markdown",
   "metadata": {},
   "source": [
    "The code above generates a single source. To generate multiple sources, we can use the generative function combinator `Map`. A generative function combination takes one or more Julia functions as input and returns a new generative function. In particular, `Map` returns a new generative function that applies the kernel independently for a vector of inputs."
   ]
  },
  {
   "cell_type": "code",
   "execution_count": null,
   "metadata": {},
   "outputs": [],
   "source": [
    "generate_sources = Map(generate_source);"
   ]
  },
  {
   "cell_type": "markdown",
   "metadata": {},
   "source": [
    "`generate_sources` takes in input lists and returns a list of `source_waves`, of the same length.\n",
    "\n",
    "Lastly we create the top-level of the model. At this level, we sample the number of sources `n_sources` and generate a sound for each source `source_waves`. Then, we add up all of the source sounds into a single sound mixture, `scene_wave`. \n",
    "\n",
    "Our last step is to generate a gammatonegram `scene_wave`. We will compute our likelihood function `p(observed_sound | scene)` in the gammatonegram domain, so it is equal to `p(observed_cochleagram | scene_cochleagram) = N(observed_cochleagram | mu = scene_cochleagram, sigma = 1.0`"
   ]
  },
  {
   "cell_type": "code",
   "execution_count": null,
   "metadata": {},
   "outputs": [],
   "source": [
    "@gen function generate_scene(scene_duration::Float64, audio_sr::Int, \n",
    "                        wts::Array{Float64,1}, gtg_params::GammatonegramParams)\n",
    "    \n",
    "    # how many sources are there\n",
    "    n_sources = @trace(part_dist(0.6), :n_sources)\n",
    "    source_waves = @trace(generate_sources(fill(audio_sr,n_sources),\n",
    "            fill(scene_duration,n_sources)),:source)\n",
    "\n",
    "    # sum over all sources to produce scene waveform\n",
    "    n_samples = Int(floor(scene_duration*audio_sr))\n",
    "    scene_wave = reduce(+, source_waves; init=zeros(n_samples))\n",
    "    \n",
    "    # generate spectrogram from saveform\n",
    "    scene_gram, t = gammatonegram(scene_wave, wts, audio_sr, gtg_params) \n",
    "    \n",
    "    # add observation noise\n",
    "    @trace(noisy_matrix(scene_gram, 1.0), :scene)\n",
    "    \n",
    "    return scene_gram, scene_wave, source_waves\n",
    "    \n",
    "end;"
   ]
  },
  {
   "cell_type": "markdown",
   "metadata": {},
   "source": [
    "# Show simulated scenes"
   ]
  },
  {
   "cell_type": "markdown",
   "metadata": {},
   "source": [
    "Let's now try generating some traces. First we prepare the arguments to our generative function, `generate_scene`. "
   ]
  },
  {
   "cell_type": "code",
   "execution_count": null,
   "metadata": {},
   "outputs": [],
   "source": [
    "scene_duration = 2.0\n",
    "audio_sr = 20000\n",
    "gtg_params = GammatonegramParams(0.025,0.010, 20.0, 64, 0.50, 1e-6, 1e-80, 20.0)\n",
    "wts, f = gtg_weights(audio_sr,gtg_params)\n",
    "args = (scene_duration, audio_sr, wts, gtg_params);"
   ]
  },
  {
   "cell_type": "markdown",
   "metadata": {},
   "source": [
    "Write code to obtain a scene trace."
   ]
  },
  {
   "cell_type": "code",
   "execution_count": null,
   "metadata": {},
   "outputs": [],
   "source": [
    "trace = simulate(generate_scene, args)\n",
    "scene_gram, scene_wave, source_waves = get_retval(trace);\n",
    "println(get_submap(get_choices(trace),:source))"
   ]
  },
  {
   "cell_type": "markdown",
   "metadata": {},
   "source": [
    "We can use the `plot_gtg` function to look at the scene as a gammetonegram."
   ]
  },
  {
   "cell_type": "code",
   "execution_count": null,
   "metadata": {},
   "outputs": [],
   "source": [
    " plot_gtg(scene_gram, scene_duration, audio_sr, 20.0, 100.0)"
   ]
  },
  {
   "cell_type": "markdown",
   "metadata": {},
   "source": [
    "We can use `plot_sources` to look at the source structure of our trace."
   ]
  },
  {
   "cell_type": "code",
   "execution_count": null,
   "metadata": {},
   "outputs": [],
   "source": [
    "plot_sources(trace, scene_gram, 0; save=false)"
   ]
  },
  {
   "cell_type": "markdown",
   "metadata": {},
   "source": [
    "Now we'll generate several scenes so that we can get a sense of what kind of distribution over scenes that our probabilistic program describes."
   ]
  },
  {
   "cell_type": "code",
   "execution_count": null,
   "metadata": {},
   "outputs": [],
   "source": [
    "figure(figsize=(12, 4))\n",
    "for i=1:12\n",
    "    subplot(2, 6, i)\n",
    "    trace = simulate(generate_scene, args)\n",
    "    scene_gram, scene_wave, source_waves = get_retval(trace);\n",
    "    n_sources = trace[:n_sources]\n",
    "    ax = gca()\n",
    "    ax[:set_title](\"n_sources: $n_sources\")\n",
    "    plot_gtg(scene_gram, scene_duration, audio_sr, 20.0, 100.0)\n",
    "end\n",
    "tight_layout()"
   ]
  },
  {
   "cell_type": "markdown",
   "metadata": {},
   "source": [
    "# MCMC inference\n",
    "\n",
    "Similar to our process of writing model, we'll write our inference moves by looking at the different levels of model hierarchy."
   ]
  },
  {
   "cell_type": "markdown",
   "metadata": {},
   "source": [
    "### Inference for tone level variables"
   ]
  },
  {
   "cell_type": "markdown",
   "metadata": {},
   "source": [
    "Let's start with inference moves for the tone-level latents. For tones, the latent variables are the `gap`, `duration`, and `frequency`. \n",
    " \n",
    "We sampled our tones with `gap` and `duration` variables in order to ensure that they didn't overlap. However, we'd rather not shift an entire set of tones if we're trying to change the timing of just a single tone.\n",
    "\n",
    "So, first we'll write a function to retrieve the \"absolute timings\" of each tone (i.e. onset and offset) from the relative timings (gap and duration)."
   ]
  },
  {
   "cell_type": "code",
   "execution_count": null,
   "metadata": {},
   "outputs": [],
   "source": [
    "function absolute_timing(source_choices)\n",
    "    #= Get a list of onset/offset pairs for a source =#\n",
    "\n",
    "    n_tones = source_choices[:n_tones];\n",
    "    total_time = 0; t = []\n",
    "    for i = 1:n_tones\n",
    "        onset = total_time + source_choices[(:tone, i) => :gap]\n",
    "        duration = source_choices[(:tone, i) => :duration] \n",
    "        offset = onset + duration\n",
    "        push!(t, [onset, offset])\n",
    "        total_time += source_choices[(:tone, i) => :gap] + source_choices[(:tone, i) => :duration] \n",
    "    end\n",
    "    return t\n",
    "    \n",
    "end\n",
    "absolute_timing(get_submap(get_choices(trace),:source=>1))"
   ]
  },
  {
   "cell_type": "markdown",
   "metadata": {},
   "source": [
    "Because our model contains `gap` and `duration` but in a sense we actually want to  work with `onset` and `offset`, we need a new kind of function that we haven't seen before: Metropolis-Hastings paired with an involution function.\n",
    "\n",
    "The involution allows you to make proposals **by sampling different variables, with different addresses than the variables currently in the** `trace`, and then deterministically make an assignment to the model trace addresses, to make a `new_trace`. \n",
    "\n",
    "There are few parts of writing an involution proposal. \n",
    "1. a generative **randomness function** where you sample the randomness that is necessary for your proposal -- these are called the `fwd_choices`. \n",
    "2. a deterministic **involution function** where you transform the proposed random variables into the model trace addresses to make a `new_trace` -- these are called the `new_choices`. \n",
    "3. you need to define what the traced values in the **randomness function** would be, if you were using it to go from `new_trace` to `trace` -- these are called the `bwd_choices`.\n",
    "\n",
    "An involution is a bijection that is its own inverse, meaning these `round_trip_trace` and `trace` will end up equal:\n",
    "\n",
    "`\n",
    "fwd_choices ~ randomness(trace)\n",
    "new_trace, bwd_choices = involution(trace, fwd_choices)\n",
    "round_trip_trace, round_trip_fwd_choice = involution(new_trace, bwd_choices)\n",
    "`\n",
    "\n",
    "Later we'll see how we can use involutions for inference moves that change dimensionality."
   ]
  },
  {
   "cell_type": "markdown",
   "metadata": {},
   "source": [
    "##### Gap (or onset) inference move\n",
    "\n",
    "We'll still propose a `gap` for the chosen tone, but we will make other deterministic adjustments to ensure that only the `onset` of the chosen tone changes, and nothing else."
   ]
  },
  {
   "cell_type": "code",
   "execution_count": null,
   "metadata": {},
   "outputs": [],
   "source": [
    "@gen function onset_randomness(trace, source_idx::Int, tone_idx::Int)\n",
    "    \n",
    "    source_choices = get_submap(get_choices(trace),:source=>source_idx)\n",
    "    abs_t = absolute_timing(source_choices)\n",
    "    \n",
    "    old_gap = trace[:source => source_idx => (:tone, tone_idx) => :gap]\n",
    "    old_duration = trace[:source => source_idx => (:tone, tone_idx) => :duration]\n",
    "    \n",
    "    last_offset = tone_idx == 1 ? 0 : abs_t[tone_idx-1][2]\n",
    "    this_offset = abs_t[tone_idx][2]\n",
    "    \n",
    "    new_gap = @trace(uniform(0, old_gap + old_duration - 0.050), :proposed_gap)\n",
    "    new_duration = old_duration + (old_gap - new_gap) \n",
    "    \n",
    "    return old_gap, old_duration, new_gap, new_duration\n",
    "    \n",
    "end\n",
    "\n",
    "function onset_involution(trace, fwd_choices, fwd_ret, proposal_args)\n",
    "\n",
    "    source_idx, tone_idx = proposal_args\n",
    "    old_gap, old_duration, new_gap, new_duration = fwd_ret\n",
    "    \n",
    "    bwd_choices = choicemap()\n",
    "    bwd_choices[:proposed_gap] = old_gap\n",
    "    \n",
    "    new_choices = choicemap()\n",
    "    new_choices[:source => source_idx => (:tone, tone_idx)=>:gap] = new_gap\n",
    "    new_choices[:source => source_idx => (:tone, tone_idx)=>:duration] = new_duration\n",
    "    \n",
    "    new_trace, weight = update(trace, get_args(trace), (), new_choices)\n",
    "    return new_trace, bwd_choices, weight\n",
    "    \n",
    "end"
   ]
  },
  {
   "cell_type": "markdown",
   "metadata": {},
   "source": [
    "To look at what the onset involution proposal does, we'll pull apart the \"behind-the-scenes\" involution code:"
   ]
  },
  {
   "cell_type": "code",
   "execution_count": null,
   "metadata": {},
   "outputs": [],
   "source": [
    "function run_involution(randomness, involution, randomness_args, init_trace; print_choices=false)\n",
    "\n",
    "    (fwd_choices, fwd_score, fwd_ret) = propose(randomness, (init_trace, randomness_args...))\n",
    "    (new_trace, bwd_choices, weight) = involution(init_trace, fwd_choices, fwd_ret, randomness_args)\n",
    "    (bwd_score, _) = assess(randomness, (new_trace,randomness_args...), bwd_choices)\n",
    "    a = weight - fwd_score + bwd_score\n",
    "    println(\"Weight: $(weight) - Fwd: $(fwd_score) + Bwd: $(bwd_score) = $a\")\n",
    "    if print_choices\n",
    "        println(\"Forward choices:\")\n",
    "        println(fwd_choices)\n",
    "        println(\"Backward choices\")\n",
    "        println(bwd_choices)\n",
    "    end\n",
    "    return fwd_choices, bwd_choices, new_trace\n",
    "\n",
    "end"
   ]
  },
  {
   "cell_type": "code",
   "execution_count": null,
   "metadata": {},
   "outputs": [],
   "source": [
    "# plot_sources(trace, scene_gram, 0; save=false)\n",
    "fwd_choices, bwd_choices, new_trace = run_involution(onset_randomness, onset_involution, (1,1,), trace; print_choices=true)\n",
    "plot_sources(new_trace, scene_gram, 1; save=false)"
   ]
  },
  {
   "cell_type": "markdown",
   "metadata": {},
   "source": [
    "##### Duration (or offset) inference move\n",
    "\n",
    "We will fill in each `@trace` statement in `fwd_choices`, the `bwd_choices`, and `new_choices`."
   ]
  },
  {
   "cell_type": "code",
   "execution_count": null,
   "metadata": {},
   "outputs": [],
   "source": [
    "@gen function duration_randomness(trace, source_idx::Int, tone_idx::Int)\n",
    "    \n",
    "    scene_duration, audio_sr, wts, gtg_params = get_args(trace)\n",
    "    \n",
    "    source_choices = get_submap(get_choices(trace),:source=>source_idx)\n",
    "    n_tones = source_choices[:n_tones]\n",
    "    abs_t = absolute_timing(source_choices)\n",
    "    \n",
    "    old_duration = trace[:source => source_idx => (:tone, tone_idx)=>:duration]\n",
    "    \n",
    "    if tone_idx == n_tones\n",
    "        \n",
    "        #if a tone is at the end of a sequence\n",
    "        new_duration = #TO DO- sample :proposed_duration from the duration prior\n",
    "    \n",
    "        return false, old_duration, false, new_duration\n",
    "    \n",
    "    else\n",
    "    \n",
    "        old_gap = trace[:source => source_idx => (:tone, tone_idx + 1) => :gap]\n",
    "        next_onset = abs_t[tone_idx + 1][1]\n",
    "        this_onset = abs_t[tone_idx][1]\n",
    "        new_duration = #TO DO- sample :proposed_duration from a uniform distribution\n",
    "        new_gap = old_gap + (old_duration - new_duration)\n",
    "        \n",
    "        return old_gap, old_duration, new_gap, new_duration \n",
    "        \n",
    "    end\n",
    "    \n",
    "end\n",
    "\n",
    "function duration_involution(trace, fwd_choices, fwd_ret, proposal_args)\n",
    "    \n",
    "    source_idx, tone_idx = proposal_args\n",
    "    old_gap, old_duration, new_gap, new_duration = fwd_ret\n",
    "    \n",
    "    bwd_choices = choicemap()\n",
    "    new_choices = choicemap()\n",
    "    if old_gap == false \n",
    "    \n",
    "        bwd_choices[:proposed_duration] = #TO DO \n",
    "        new_choices[:source => source_idx => (:tone, tone_idx) => :duration] = #TO DO\n",
    "        \n",
    "    else\n",
    "        \n",
    "        bwd_choices[:proposed_duration] = #TO DO\n",
    "\n",
    "        new_choices[:source => source_idx => (:tone, tone_idx + 1) => :gap] = #TO DO\n",
    "        new_choices[:source => source_idx => (:tone, tone_idx) => :duration] = #TO DO\n",
    "        \n",
    "    end\n",
    "    \n",
    "    new_trace, weight = update(trace, get_args(trace), (), new_choices)\n",
    "    return new_trace, bwd_choices, weight\n",
    "    \n",
    "end"
   ]
  },
  {
   "cell_type": "code",
   "execution_count": null,
   "metadata": {},
   "outputs": [],
   "source": [
    "# plot_sources(trace, scene_gram, 0; save=false)\n",
    "fwd_choices, bwd_choices, new_trace = run_involution(duration_randomness, duration_involution, (1,1,), trace; print_choices=true)\n",
    "plot_sources(new_trace, scene_gram, 1; save=false)"
   ]
  },
  {
   "cell_type": "markdown",
   "metadata": {},
   "source": [
    "##### Tone frequency inference move\n",
    "\n",
    "For the frequency of a tone, we'll write a Gaussian Drift proposal. "
   ]
  },
  {
   "cell_type": "code",
   "execution_count": null,
   "metadata": {},
   "outputs": [],
   "source": [
    "@gen function tonefreq_gaussian_drift(trace, source_idx::Int, tone_idx::Int)\n",
    "    f = trace[:source => source_idx => (:tone, tone_idx) => :f0]\n",
    "    @trace(normal(f, 1.0), :source => source_idx => (:tone, tone_idx) => :f0)\n",
    "end;"
   ]
  },
  {
   "cell_type": "code",
   "execution_count": null,
   "metadata": {},
   "outputs": [],
   "source": [
    "(proposal_choices, _, _) = propose(tonefreq_gaussian_drift, (trace, 1, 1,))\n",
    "(new_trace, _, _, _) = update(trace, args, (),proposal_choices)\n",
    "plot_sources(new_trace, scene_gram, 1; save=false)"
   ]
  },
  {
   "cell_type": "markdown",
   "metadata": {},
   "source": [
    "### Inference for source level variables"
   ]
  },
  {
   "cell_type": "markdown",
   "metadata": {},
   "source": [
    "##### Proposal for mean frequency of a source\n",
    "\n",
    "We can similarly write a drift proposal for the mean frequency of a source. We use a `truncated_normal` distribution (defined in `extra_distributions.jl`) because `:mu` is originally drawn from a `uniform` distribution that has zero probability density outside certain bounds:"
   ]
  },
  {
   "cell_type": "code",
   "execution_count": null,
   "metadata": {},
   "outputs": [],
   "source": [
    "@gen function mu_gaussian_drift(trace, source_idx::Int)\n",
    "    scene_duration, audio_sr, wts, gtg_params = get_args(trace)\n",
    "    f = trace[:source => source_idx => :mu]\n",
    "    @trace(truncated_normal(f, 4., freq_to_ERB(20.0), freq_to_ERB(audio_sr)), \n",
    "        :source => source_idx => :mu)\n",
    "end;"
   ]
  },
  {
   "cell_type": "markdown",
   "metadata": {},
   "source": [
    "##### Proposal for number of tones in a source\n",
    "\n",
    "For changing the number of tones in a source, we will also write an inference move. It would be possible to use an ordinary `mh` move, i.e.:\n",
    "\n",
    "`trace, accepted = mh(trace, select(:source => source_idx => :n_tones))`\n",
    "\n",
    "however, this would only ever remove or add tones at the end of a sequence.\n",
    "\n",
    "In order to choose to remove or add a tone in the middle of a sequence, we need to write an involution move because it requires making a new random choice: where in the middle of the sequence should we add/remove a tone? (Note that we'll restrict the change in the number of tones to plus or minus 1).\n",
    "\n",
    "In a sense, this is not solely a source level inference move because we need to also choose the tone-level variables of the new tone that is added."
   ]
  },
  {
   "cell_type": "code",
   "execution_count": null,
   "metadata": {},
   "outputs": [],
   "source": [
    "@gen function ntones_randomness(trace, source_idx::Int)\n",
    "\n",
    "    source_choices = get_submap(get_choices(trace),:source=>source_idx)\n",
    "    n_tones = source_choices[:n_tones]\n",
    "    \n",
    "    #To keep it simple, we'll never get rid of a source by getting rid of a tone\n",
    "    p = n_tones == 1 ? 1.0 : 0.5\n",
    "    add_tone = @trace(bernoulli(p),:add_tone)\n",
    "    \n",
    "    if add_tone\n",
    "        \n",
    "        #since we have a minimum value for the duration of a tone,\n",
    "        #find a gap in the sequence where the tone can fit \n",
    "        enough_space = [source_choices[(:tone, i) => :gap] > 0.050 for i = 1:n_tones]\n",
    "        #add an extra possibility to add a tone onto the end\n",
    "        push!(enough_space, true)\n",
    "        enough_space = Int.(enough_space)\n",
    "        enough_space = enough_space ./ sum(enough_space)\n",
    "        \n",
    "        #sample the index of the tone that will be added\n",
    "        add_idx = @trace(categorical(enough_space), :add_idx)\n",
    "        \n",
    "        if add_idx <= n_tones\n",
    "            old_gap = source_choices[(:tone,add_idx)=>:gap]\n",
    "            add_duration = @trace(uniform(0.050, old_gap), :add_duration)\n",
    "            add_gap = @trace(uniform(0, old_gap-add_duration), :add_gap)\n",
    "        elseif add_idx == n_tones + 1\n",
    "            add_gap = @trace(gamma(2,0.1), :add_gap)\n",
    "            add_duration = @trace(dur_dist(2,0.1,0.050), :add_duration)\n",
    "        end\n",
    "        add_frequency = @trace(normal(source_choices[:mu], 3.0), :add_frequency)\n",
    "        \n",
    "    else #delete tone\n",
    "        \n",
    "        delete_idx = @trace(uniform_discrete(1,n_tones), :delete_idx)\n",
    "        \n",
    "    end\n",
    "    \n",
    "    return add_tone\n",
    "    \n",
    "end"
   ]
  },
  {
   "cell_type": "markdown",
   "metadata": {},
   "source": [
    "The assignment of `new_choices` in the `involution` requires shifting the indexes of the tones, without changing their latent variables (eg. see lines 33 and 57, using `set_submap`). Fill in the `bwd_choices`."
   ]
  },
  {
   "cell_type": "code",
   "execution_count": null,
   "metadata": {},
   "outputs": [],
   "source": [
    "function ntones_involution(trace, fwd_choices, fwd_ret, proposal_args)\n",
    "        \n",
    "    source_idx, = proposal_args\n",
    "    add_tone = fwd_ret\n",
    "    old_choices = get_submap(get_choices(trace),:source => source_idx)\n",
    "    abs_t = absolute_timing(old_choices)\n",
    "    \n",
    "    bwd_choices = choicemap()\n",
    "    new_choices = choicemap()  \n",
    "    bwd_choices[:add_tone] = ~add_tone\n",
    "    \n",
    "    if add_tone\n",
    "        \n",
    "        ##Add_element\n",
    "        new_choices[:source => source_idx => :n_tones] = old_choices[:n_tones] + 1\n",
    "\n",
    "        #Add in new timing info \n",
    "        add_idx = fwd_choices[:add_idx]\n",
    "        new_choices[:source => source_idx => (:tone, add_idx) => :gap] = fwd_choices[:add_gap]\n",
    "        new_choices[:source => source_idx => (:tone, add_idx) => :duration] = fwd_choices[:add_duration]\n",
    "        new_choices[:source => source_idx => (:tone, add_idx) => :f0] = fwd_choices[:add_frequency]\n",
    "         \n",
    "        #If there are any elements after the added element: \n",
    "        if add_idx != old_choices[:n_tones] + 1\n",
    "            #Need to change the \"gap\" of the tone immediately after the add_element, in order to retain the same onset\n",
    "            new_choices[:source => source_idx => (:tone, add_idx + 1) => :gap] = old_choices[(:tone, add_idx) => :gap] - fwd_choices[:add_gap] - fwd_choices[:add_duration]\n",
    "            new_choices[:source => source_idx => (:tone, add_idx +1) => :duration] = old_choices[(:tone, add_idx) => :duration]\n",
    "            new_choices[:source => source_idx => (:tone, add_idx + 1) => :f0] = old_choices[(:tone, add_idx) => :f0]\n",
    "\n",
    "            #All elements after (the element immediately following the add_telement) are simply shifted in index\n",
    "            old_idxs = add_idx + 1 == old_choices[:n_tones] + 1 ? [] : add_idx+1:old_choices[:n_tones]\n",
    "            for old_tone_idx = old_idxs\n",
    "                set_submap!(new_choices, :source => source_idx => (:tone, old_tone_idx + 1), get_submap(old_choices,(:tone, old_tone_idx)))\n",
    "            end\n",
    "            \n",
    "        end\n",
    "                                                            \n",
    "        bwd_choices[:delete_idx] = add_idx\n",
    "        \n",
    "        \n",
    "    else\n",
    "        \n",
    "        new_choices[:source => source_idx => :n_tones] = old_choices[:n_tones] - 1\n",
    "        delete_idx = fwd_choices[:delete_idx]\n",
    "        \n",
    "        #If the deleted tone is in the middle of a sequence:\n",
    "        if delete_idx < old_choices[:n_tones]\n",
    "            #Adjust the wait time of the element following the one that was removed\n",
    "            last_offset = delete_idx > 1 ? abs_t[delete_idx - 1][2] : 0\n",
    "            new_choices[:source => source_idx => (:tone, delete_idx) => :gap] = abs_t[delete_idx+1][1] - last_offset\n",
    "            new_choices[:source => source_idx => (:tone, delete_idx) => :duration] = old_choices[(:tone, delete_idx + 1) => :duration]\n",
    "            new_choices[:source => source_idx => (:tone, delete_idx) => :f0] = old_choices[(:tone, delete_idx + 1) => :f0]\n",
    "        \n",
    "            #All the elements after the one immediately following the deleted element must shift their indices \n",
    "            old_idxs = delete_idx == old_choices[:n_tones] - 1 ? [] : (delete_idx + 2):old_choices[:n_tones]\n",
    "            for old_tone_idx = old_idxs  \n",
    "                set_submap!(new_choices, :source => source_idx => (:tone, old_tone_idx-1), get_submap(old_choices,(:tone, old_tone_idx)))\n",
    "            end\n",
    "        end\n",
    "                \n",
    "        #Define backwards choice by putting remove_elementback in                                                                \n",
    "        bwd_choices[:add_idx] = delete_idx        \n",
    "        bwd_choices[:add_gap] = old_choices[(:tone, delete_idx) => :gap]  \n",
    "        bwd_choices[:add_duration] = old_choices[(:tone, delete_idx) => :duration] \n",
    "        bwd_choices[:add_frequency] = old_choices[(:tone, delete_idx) => :f0]   \n",
    "        \n",
    "    end\n",
    "    \n",
    "    new_trace, weight = update(trace, get_args(trace), (), new_choices)\n",
    "    return new_trace, bwd_choices, weight\n",
    "    \n",
    "end"
   ]
  },
  {
   "cell_type": "code",
   "execution_count": null,
   "metadata": {},
   "outputs": [],
   "source": [
    "# plot_sources(trace, scene_gram, 0; save=false)\n",
    "fwd_choices, bwd_choices, new_trace = run_involution(ntones_randomness, ntones_involution, (1,), trace; print_choices=false)\n",
    "plot_sources(new_trace, scene_gram, 1; save=false)"
   ]
  },
  {
   "cell_type": "markdown",
   "metadata": {
    "collapsed": true
   },
   "source": [
    "##### Proposal to switch a tone from one source to another\n",
    "\n",
    "There is no sampled latent variable that corresponds to the choice \"the `tone` with this {`gap`, `duration`, `frequency`} belongs to `source` 1\". Rather, this is implied by the structure of the generative function (and therefore `trace`). \n",
    "\n",
    "Therefore, in order to move a `tone` from one `source` to another, we need to use an `involution`. We'd also like to be able to move a tone into a brand new `source`, which requires changing dimensionality. \n",
    "\n",
    "You can see that ensuring that the involution is its own inverse requires accounting for the different cases of how dimensionality could change (both in the sense of restricting the random choices and writing several parts to the involution):\n",
    "1. If the origin source had only one tone in it, the switched tone will always move into an existing source. `n_sources` decreases by 1\n",
    "2. A tone can be moved to a new source if the origin source has more than one tone. `n_sources` increases by 1.\n",
    "3. The tone is switched between two existing sources. `n_sources` remains the same."
   ]
  },
  {
   "cell_type": "code",
   "execution_count": null,
   "metadata": {},
   "outputs": [],
   "source": [
    "@gen function switch_randomness(trace)\n",
    "    \n",
    "    scene_duration, audio_sr, wts, gtg_params = get_args(trace)\n",
    "    old_choices = get_choices(trace)\n",
    "    \n",
    "    #onset/offset information for each element in each source: all source timings\n",
    "    all_source_timings = []\n",
    "    old_n_sources = old_choices[:n_sources]\n",
    "    for i = 1:old_n_sources\n",
    "        #list of lists of times\n",
    "        #[ (element 1)[onset, offset], (element2)[onset, offset], ... ]\n",
    "        old_abs_timings = absolute_timing(get_submap(old_choices, :source => i))\n",
    "        push!(all_source_timings,old_abs_timings) \n",
    "    end\n",
    "    \n",
    "    origin = @trace(uniform_discrete(1, old_n_sources), :origin)\n",
    "    old_n_elements = old_choices[:source => origin => :n_tones]\n",
    "    element_idx = @trace(uniform_discrete(1,old_n_elements),:element_idx)\n",
    "    onset = all_source_timings[origin][element_idx][1];\n",
    "    offset = all_source_timings[origin][element_idx][2];\n",
    "    \n",
    "    #Find the sources into which a element can be switched \n",
    "    source_switch = []; which_spot = [];\n",
    "    for i = 1:old_choices[:n_sources]\n",
    "        if i == origin \n",
    "            append!(source_switch, 0); append!(which_spot, 0)\n",
    "        else\n",
    "            source_nt = old_choices[:source => i => :n_tones]\n",
    "            timings = all_source_timings[i];\n",
    "            for j = 1:source_nt + 1\n",
    "\n",
    "                #switch into spot before the first element\n",
    "                if j == 1 \n",
    "                    fits = (0 < onset) && (offset < timings[j][1])\n",
    "                elseif 1 < j <= source_nt\n",
    "                    fits = (timings[j-1][2] < onset) && (offset < timings[j][1])\n",
    "                elseif j == source_nt + 1\n",
    "                    fits = (timings[j - 1][2] < onset)\n",
    "                end\n",
    "\n",
    "                if fits\n",
    "                    append!(source_switch, 1)\n",
    "                    append!(which_spot, j)\n",
    "                    break\n",
    "                elseif j == source_nt + 1\n",
    "                    append!(source_switch, 0)\n",
    "                    append!(which_spot, 0)\n",
    "                end\n",
    "\n",
    "            end\n",
    "        end\n",
    "    end\n",
    "    \n",
    "    #Decide whether to move the element into an existing source\n",
    "    #Or make a new source, where it will be the only element\n",
    "    switch_to_existing_source = sum(source_switch)\n",
    "    switch_to_new_source = old_n_elements > 1 ? 1 : 0     \n",
    "    switch_weights = [switch_to_existing_source, switch_to_new_source]\n",
    "    if sum(switch_weights) == 0\n",
    "        return \"abort\"\n",
    "    end\n",
    "    switch_weights = [switch_to_existing_source, switch_to_new_source]\n",
    "\n",
    "    ps = switch_weights./sum(switch_weights)\n",
    "    new_source = @trace(bernoulli(ps[2]), :new_source)\n",
    "    #Decide the idx of the destination source\n",
    "    #If it's a new source, it can go before any of the old sources or at the end\n",
    "    #If it's an old source, you need to choose from the ones in source_switch\n",
    "    destination_ps = new_source ? fill(1/(old_choices[:n_sources] + 1), old_choices[:n_sources] + 1) : source_switch./sum(source_switch)\n",
    "    destination = @trace(categorical(destination_ps), :destination)\n",
    "    \n",
    "    ## change the means of the sources, so that there's the best possibility for acceptance\n",
    "    if ~new_source                                                                                            \n",
    "        dest_f0s = [trace[:source => destination => (:tone, j) => :f0] for j = 1:old_choices[:source => destination => :n_tones]]\n",
    "    else\n",
    "        dest_f0s = []\n",
    "    end\n",
    "    push!(dest_f0s, old_choices[:source => origin => (:tone, element_idx) => :f0])\n",
    "    m = mean(dest_f0s); s = length(dest_f0s) > 1 ? std(dest_f0s) : 3.0; l = freq_to_ERB(20.0); u = freq_to_ERB(audio_sr/2.);\n",
    "    @trace(truncated_normal(m, s, l, u), :dest => :mu)                                                                                                               \n",
    "                                                                                                                    \n",
    "    if old_choices[:source => origin => :n_tones] > 1  \n",
    "        orig_f0s = [trace[:source => origin => (:tone, j) => :f0] for j in 1:trace[:source => origin => :n_tones] if j != element_idx]\n",
    "        m = mean(orig_f0s); s = length(orig_f0s) > 1 ? std(orig_f0s) : 3.0; \n",
    "        @trace(truncated_normal(m, s, l, u), :orig => :mu) \n",
    "    end \n",
    "                                                                                                                                                                                                                                      \n",
    "    return which_spot, all_source_timings\n",
    "               \n",
    "end                                                                                                                                    \n",
    "                                                    \n",
    "function switch_involution(trace, fwd_choices, fwd_ret, proposal_args)\n",
    "    \n",
    "    if fwd_ret == \"abort\"\n",
    "        return trace, fwd_choices, 0\n",
    "    end\n",
    "                    \n",
    "    #we need to specify how to go backwards\n",
    "    #and how to construct the new trace\n",
    "    bwd_choices = choicemap()\n",
    "    new_choices = choicemap()\n",
    "    which_gaps = fwd_ret[1]; all_source_timings = fwd_ret[2];\n",
    "    \n",
    "    scene_duration, audio_sr, wts, gtg_params = get_args(trace)\n",
    "    old_choices = get_choices(trace); \n",
    "    old_n_sources = old_choices[:n_sources]; \n",
    "    \n",
    "    ## indexes for moving a element from origin to destination source\n",
    "    origin_idx = fwd_choices[:origin]\n",
    "    new_source = fwd_choices[:new_source]\n",
    "    destination_idx = fwd_choices[:destination]\n",
    "    element_switch_idx = fwd_choices[:element_idx]\n",
    "                                                                                                                             \n",
    "    old_origin_nt = old_choices[:source => origin_idx => :n_tones]\n",
    "    old_destination_nt = new_source ? 0 : old_choices[:source => destination_idx => :n_tones]\n",
    "    which_gap = new_source ? 1 : which_gaps[destination_idx]\n",
    "    element_attributes = [:gap, :duration, :f0]\n",
    "    element_attributes_no_wait = [:duration, :f0]\n",
    "\n",
    "    ##Get all the properties of the switch element in the new source\n",
    "    switch_element = Dict()\n",
    "    #absolute onset and offset stay the same, so do duration and gps\n",
    "    switch_element[:onset] = all_source_timings[origin_idx][element_switch_idx][1] \n",
    "    switch_element[:offset] = all_source_timings[origin_idx][element_switch_idx][2]         \n",
    "    switch_element[:duration]= old_choices[:source => origin_idx => (:tone, element_switch_idx) => :duration]\n",
    "    switch_element[:f0]=old_choices[:source => origin_idx => (:tone, element_switch_idx) => :f0]\n",
    "    #gap depends on what is before the switch_element in the destination stream\n",
    "    prev_offset = (which_gap == 1) ? 0 : all_source_timings[destination_idx][which_gap - 1][2] \n",
    "    switch_element[:gap] = switch_element[:onset] - prev_offset;\n",
    "\n",
    "    ##compute new GAPS OF elementS FOLLOWING SWITCH element, in both destination and origin\n",
    "    #inserting switch_element before a element in destination source\n",
    "    if which_gap <= old_destination_nt\n",
    "        dest_after_gap = all_source_timings[destination_idx][which_gap][1] - switch_element[:offset]\n",
    "    end\n",
    "    #removing switch_element before a element in origin source\n",
    "    if element_switch_idx < old_origin_nt\n",
    "        prev_offset = element_switch_idx == 1 ? 0 : all_source_timings[origin_idx][element_switch_idx - 1][2]\n",
    "        orig_after_gap = all_source_timings[origin_idx][element_switch_idx + 1][1] - prev_offset\n",
    "    end\n",
    "    \n",
    "    if old_origin_nt == 1 \n",
    "        # If the origin stream had only one element in it, it should be removed\n",
    "        # The switch_element will not be moved into a new stream,\n",
    "        # so n_sources should always decrease by 1\n",
    "        \n",
    "        # new_source = false\n",
    "        # destination_idx chooses an existing source \n",
    "        \n",
    "        # if destination_idx is larger than origin_idx\n",
    "        # the idx of the destination source needs to be shifted down one\n",
    "        # and any sources after the destination source need to be shifted down one\n",
    "        \n",
    "        # if destination_idx is smaller than origin_idx\n",
    "        # the idx of the destination source can remain the same, \n",
    "        # but others may be shifted down one \n",
    "\n",
    "        new_choices[:n_sources] = old_n_sources - 1\n",
    "        #Get indexes of old sources that must be changed \n",
    "        new_idx = 1:(old_n_sources - 1)\n",
    "        #the OLD labels after the origin index are shifted up one because their new labels will be one smaller\n",
    "        old_idx = [(n >= origin_idx ? (n + 1) : n) for n in new_idx] \n",
    "        #Only need to change old indexes that are greater than or equal to the origin idx\n",
    "        #Get rid of (old_idx < origin_idx) because those won't change...\n",
    "        #...as well as the destination index, which will be treated on its own\n",
    "        matching_new_idx = [new_idx[i] for i in 1:length(new_idx) if (old_idx[i] != destination_idx)]\n",
    "        old_idx = [o for o in old_idx if (o != destination_idx)]\n",
    "        \n",
    "        ##Shift sources that do not change\n",
    "        for i = 1:length(old_idx)                        \n",
    "            set_submap!(new_choices, :source=>matching_new_idx[i], get_submap(old_choices,:source=>old_idx[i]))                        \n",
    "        end\n",
    "        \n",
    "        ##Deal with destination source specifically\n",
    "        old_destination_idx = destination_idx\n",
    "        new_destination_idx = old_destination_idx > origin_idx ? old_destination_idx - 1 : old_destination_idx \n",
    "        old_nt = old_choices[:source=>old_destination_idx=>:n_tones]\n",
    "                                                \n",
    "        #Get source attributes\n",
    "        new_choices[:source => new_destination_idx => :n_tones] = old_nt + 1\n",
    "        new_choices[:source => new_destination_idx => :mu] = fwd_choices[:dest => :mu]\n",
    "\n",
    "        #Switch element\n",
    "        for a in element_attributes\n",
    "            new_choices[:source => new_destination_idx => (:tone, which_gap) => a] = switch_element[a]\n",
    "        end\n",
    "                                \n",
    "        #All elements before the switch_element stay the same\n",
    "        if which_gap > 1\n",
    "            for j = 1:which_gap - 1\n",
    "                set_submap!(new_choices, :source => new_destination_idx => (:tone, j), get_submap(old_choices,:source=>old_destination_idx=>(:tone,j)))\n",
    "            end\n",
    "        end\n",
    "        #If there are any elements after the switch_element they must be increased in index by one\n",
    "        if which_gap <= old_nt #comes before one of the old elements\n",
    "            for new_element_idx = (which_gap + 1):(old_nt + 1)\n",
    "                new_choices[:source => new_destination_idx => (:tone, new_element_idx) => :gap] = (new_element_idx == (which_gap + 1)) ? dest_after_gap : old_choices[:source => old_destination_idx => (:tone,new_element_idx-1) => :gap]\n",
    "                for a in element_attributes_no_wait\n",
    "                    new_choices[:source => new_destination_idx => (:tone, new_element_idx) => a] = old_choices[:source=>old_destination_idx=>(:tone,new_element_idx-1)=>a]\n",
    "                end \n",
    "            end\n",
    "        end\n",
    "\n",
    "        bwd_choices[:origin] = new_destination_idx\n",
    "        bwd_choices[:new_source] = true\n",
    "\n",
    "        bwd_choices[:dest => :mu] = old_choices[:source => origin_idx => :mu]\n",
    "        bwd_choices[:orig => :mu] = old_choices[:source => destination_idx => :mu]\n",
    "\n",
    "        bwd_choices[:destination] = origin_idx\n",
    "        bwd_choices[:element_idx] = which_gap\n",
    "            \n",
    "    elseif new_source\n",
    "        # we put the element in a new stream \n",
    "        # we keep the origin stream as well\n",
    "        # so n_sources increases by 1\n",
    "        # need to shift all the sources after the destination_idx\n",
    "                                \n",
    "        new_choices[:n_sources] = old_n_sources + 1\n",
    "        \n",
    "        ##Create new destination source with a single element in it\n",
    "        new_choices[:source => destination_idx => :n_tones] = 1\n",
    "        new_choices[:source => destination_idx => :mu] = fwd_choices[:dest => :mu]\n",
    "\n",
    "        for a in element_attributes\n",
    "            new_choices[:source => destination_idx => (:tone, 1) => a] = switch_element[a]\n",
    "        end\n",
    "\n",
    "        ##in origin source, move all elements down one index if they're after the switch index\n",
    "        old_origin_idx = origin_idx\n",
    "        new_origin_idx = origin_idx >= destination_idx ? origin_idx + 1 : origin_idx\n",
    "        old_nt = old_choices[:source => origin_idx => :n_tones]\n",
    "        new_choices[:source => new_origin_idx => :n_tones] = old_nt - 1\n",
    "        new_choices[:source => new_origin_idx => :mu] = fwd_choices[:orig => :mu]\n",
    "\n",
    "        if element_switch_idx > 1\n",
    "            for j = 1:element_switch_idx - 1\n",
    "                set_submap!(new_choices, :source => new_origin_idx => (:tone, j), get_submap(old_choices,:source=>old_origin_idx=>(:tone,j)))\n",
    "            end\n",
    "        end                        \n",
    "        if element_switch_idx < old_nt\n",
    "            for old_element_idx = (element_switch_idx + 1):old_nt\n",
    "                new_choices[:source => new_origin_idx => (:tone, old_element_idx-1)=>:gap] = (old_element_idx == (element_switch_idx + 1)) ? orig_after_gap : old_choices[:source => origin_idx => (:tone, old_element_idx)=> :gap]\n",
    "                for a in element_attributes_no_wait\n",
    "                    new_choices[:source => new_origin_idx => (:tone, old_element_idx-1) => a] = old_choices[:source=>origin_idx=>(:tone,old_element_idx)=>a]\n",
    "                end \n",
    "            end\n",
    "        end\n",
    "                                \n",
    "        ##shift all sources after destination_idx up one\n",
    "        if destination_idx < new_choices[:n_sources]\n",
    "            shift_idxs = [i for i in (destination_idx+1):new_choices[:n_sources] if i != new_origin_idx]\n",
    "            for i in shift_idxs\n",
    "                set_submap!(new_choices, :source=>i, get_submap(old_choices, :source=>i-1))\n",
    "            end\n",
    "        end\n",
    "                                \n",
    "        bwd_choices[:origin] = destination_idx\n",
    "        bwd_choices[:new_source] = false  \n",
    "\n",
    "        bwd_choices[:dest => :mu] = old_choices[:source => origin_idx => :mu]\n",
    "\n",
    "        bwd_choices[:destination] = new_origin_idx\n",
    "        bwd_choices[:element_idx] = 1\n",
    "            \n",
    "    else\n",
    "        # we put the element in an old stream, and keep the origin stream\n",
    "        # streams do not have to be shifted \n",
    "        # new_source = false\n",
    "        ##in origin source, move all elements to earlier index if they're after the switch index\n",
    "        old_nt = old_choices[:source => origin_idx => :n_tones]\n",
    "        new_choices[:source => origin_idx => :n_tones] = old_nt - 1\n",
    "        new_choices[:source => origin_idx => :mu] = fwd_choices[:orig => :mu]\n",
    "\n",
    "        if element_switch_idx < old_nt\n",
    "            for old_element_idx = (element_switch_idx + 1):old_nt\n",
    "                new_choices[:source => origin_idx => (:tone, old_element_idx-1)=>:gap] = (old_element_idx == (element_switch_idx + 1)) ? orig_after_gap : old_choices[:source => origin_idx => (:tone, old_element_idx)=>:gap]\n",
    "                for a in element_attributes_no_wait\n",
    "                    new_choices[:source => origin_idx => (:tone, old_element_idx-1) => a] = old_choices[:source=>origin_idx=>(:tone,old_element_idx)=>a]\n",
    "                end \n",
    "            end\n",
    "        end\n",
    "            \n",
    "        ##in destination source, insert element and then shift elements to later index\n",
    "        old_nt = old_choices[:source => destination_idx => :n_tones]\n",
    "        new_choices[:source => destination_idx => :n_tones] = old_nt + 1\n",
    "        new_choices[:source => destination_idx => :mu] = fwd_choices[:dest => :mu]\n",
    "\n",
    "        #Switch element\n",
    "        for a in element_attributes\n",
    "            new_choices[:source => destination_idx => (:tone, which_gap) => a] = switch_element[a]\n",
    "        end\n",
    "        #elements after switch_element\n",
    "        if which_gap <= old_nt\n",
    "            for new_element_idx = (which_gap + 1):(old_nt + 1)\n",
    "                new_choices[:source => destination_idx =>(:tone,new_element_idx)=>:gap] = (new_element_idx == (which_gap + 1)) ? dest_after_gap : old_choices[:source => destination_idx => (:tone, new_element_idx-1)=> :gap]\n",
    "                for a in element_attributes_no_wait\n",
    "                    new_choices[:source => destination_idx => (:tone, new_element_idx) => a] = old_choices[:source=>destination_idx=>(:tone,new_element_idx-1)=>a]\n",
    "                end\n",
    "            end\n",
    "        end\n",
    "            \n",
    "        bwd_choices[:origin] = destination_idx\n",
    "        bwd_choices[:destination] = origin_idx\n",
    "        bwd_choices[:element_idx] = which_gap\n",
    "        bwd_choices[:new_source] = false\n",
    "\n",
    "        bwd_choices[:dest => :mu] = old_choices[:source => origin_idx => :mu]\n",
    "        bwd_choices[:orig => :mu] = old_choices[:source => destination_idx => :mu]\n",
    "\n",
    "                                            \n",
    "              \n",
    "    end\n",
    "    new_trace, weight = update(trace, get_args(trace), (), new_choices)\n",
    "    return new_trace, bwd_choices, weight\n",
    "\n",
    "end"
   ]
  },
  {
   "cell_type": "code",
   "execution_count": null,
   "metadata": {},
   "outputs": [],
   "source": [
    "plot_sources(trace, scene_gram, 0; save=false)\n",
    "fwd_choices, bwd_choices, new_trace = run_involution(switch_randomness, switch_involution, (), trace; print_choices=false)\n",
    "plot_sources(new_trace, scene_gram, 1; save=false)"
   ]
  },
  {
   "cell_type": "markdown",
   "metadata": {},
   "source": [
    "##### Proposal to completely add or remove a source \n",
    "\n",
    "Like with tones, we could add or remove a source with the simple `mh` function with a `Selection`:\n",
    "\n",
    "`trace, accepted = mh(trace, select(:n_sources))`\n",
    "\n",
    "However, this would always add or remove the sources from the end (like we discussed before with regards to tones). However, unlike tones, the indexing of the sources is arbitrary and meaningless. Rather than writing another involution to actually change the number of sources, we'll write a `swap` proposal that will swap one source with the highest-indexed source, so that arbitrary sources can be removed by our black-box `mh + Selection`. \n",
    "\n",
    "This move should always be accepted because acceptance ratio should be equal to one. "
   ]
  },
  {
   "cell_type": "code",
   "execution_count": null,
   "metadata": {},
   "outputs": [],
   "source": [
    "@gen function swap_sources_randomness(trace)\n",
    "    n1 = @trace(uniform_discrete(1, trace[:n_sources]), :to_move)\n",
    "    return n1\n",
    "end\n",
    "\n",
    "function swap_sources_involution(trace, fwd_choices, fwd_ret, proposal_args)\n",
    "    new_choices = choicemap()\n",
    "    n1 = fwd_ret\n",
    "    n_sources = trace[:n_sources]\n",
    "    set_submap!(new_choices, :source => n1, get_submap(get_choices(trace), :source => n_sources))\n",
    "    set_submap!(new_choices, :source => n_sources, get_submap(get_choices(trace), :source => n1))\n",
    "    new_trace, = update(trace, get_args(trace), (), new_choices)\n",
    "    return new_trace, fwd_choices, 0\n",
    "end"
   ]
  },
  {
   "cell_type": "markdown",
   "metadata": {
    "collapsed": true
   },
   "source": [
    "## Putting it all together"
   ]
  },
  {
   "cell_type": "markdown",
   "metadata": {},
   "source": [
    "We'll now combine our proposals into a single inference block. You can see that the same basic `mh` operator can be used with different inputs to use the variety of inference moves that we've written here."
   ]
  },
  {
   "cell_type": "code",
   "execution_count": null,
   "metadata": {
    "scrolled": false
   },
   "outputs": [],
   "source": [
    "function run_proposals(initial_trace, obs_gram, n_blocks)\n",
    "\n",
    "    trace = initial_trace\n",
    "    for block_idx = 1:n_blocks\n",
    "        for source_idx = 1:trace[:n_sources]\n",
    "            \n",
    "            n_tones = trace[:source => source_idx => :n_tones]\n",
    "            for tone_idx = 1:n_tones\n",
    "                trace, accepted = mh(trace, onset_randomness, (source_idx, tone_idx,), onset_involution)\n",
    "                trace, accepted = mh(trace, duration_randomness, (source_idx,tone_idx,), duration_involution)\n",
    "                trace, accepted = mh(trace, tonefreq_gaussian_drift, (source_idx, tone_idx,)) \n",
    "            end\n",
    "            \n",
    "            for rep_idx = 1:10\n",
    "                trace, accepted = mh(trace, mu_gaussian_drift, (source_idx,))\n",
    "                trace, accepted = mh(trace, ntones_randomness, (source_idx,), ntones_involution)\n",
    "            end\n",
    "            \n",
    "        end\n",
    "        \n",
    "        for rep_idx = 1:10\n",
    "            trace, accepted = mh(trace, switch_randomness, (), switch_involution)\n",
    "        end\n",
    "        \n",
    "        for rep_idx = 1:2\n",
    "            trace, accepted = mh(trace, swap_sources_randomness, (), swap_sources_involution)\n",
    "            @assert accepted\n",
    "            trace, accepted = mh(trace, select(:n_sources))\n",
    "        end\n",
    "        \n",
    "        plot_sources(trace, obs_gram, block_idx; save=false)\n",
    "        \n",
    "    end\n",
    "    \n",
    "    return trace\n",
    "    \n",
    "end\n",
    "\n",
    "function run_inference(obs_gram, args; n_blocks=10)\n",
    "    \n",
    "    #=To evaluate our likelihood function, \n",
    "    we constrain the scene to be equal to obs_gram\n",
    "    this means that we will evaluate the probability of obs_gram\n",
    "    under the normal distribution defined by our model \n",
    "    when it samples scene_gram=#\n",
    "    constraints = choicemap((:scene, obs_gram))\n",
    "    #We randomly generate an initial trace\n",
    "    initial_trace, _ = generate(generate_scene, args, constraints)\n",
    "    #Then we make proposals for all the latent, non-obseved variables\n",
    "    final_trace = run_proposals(initial_trace, obs_gram, n_blocks)\n",
    "    return final_trace\n",
    "    \n",
    "end"
   ]
  },
  {
   "cell_type": "markdown",
   "metadata": {},
   "source": [
    "Let's generate a random trace from our prior to use as our observation:"
   ]
  },
  {
   "cell_type": "code",
   "execution_count": null,
   "metadata": {},
   "outputs": [],
   "source": [
    "trace = simulate(generate_scene, args)\n",
    "scene_gram, scene_wave, source_waves = get_retval(trace);\n",
    "plot_gtg(scene_gram, scene_duration, audio_sr, 20.0, 100.0)"
   ]
  },
  {
   "cell_type": "code",
   "execution_count": null,
   "metadata": {},
   "outputs": [],
   "source": [
    "run_inference(scene_gram, args, n_blocks=50);"
   ]
  },
  {
   "cell_type": "markdown",
   "metadata": {},
   "source": [
    "### To ponder\n",
    "\n",
    "Is there anything that looks like it's probably a local optimum, and we could find a better explanation than where inference has settled? What kind of inference move could we design to move out of the local optimum? "
   ]
  },
  {
   "cell_type": "markdown",
   "metadata": {},
   "source": [
    "### Tone sequence demonstration\n",
    "\n",
    "Let's see if our model can recover the sources that we hear in a classic auditory scene analysis demonstration. "
   ]
  },
  {
   "cell_type": "code",
   "execution_count": null,
   "metadata": {},
   "outputs": [],
   "source": [
    "using WAV;"
   ]
  },
  {
   "cell_type": "code",
   "execution_count": null,
   "metadata": {},
   "outputs": [],
   "source": [
    "gtg_params = GammatonegramParams(0.025,0.010, 20.0, 64, 0.50, 1e-6, 1e-80, 20.0)\n",
    "\n",
    "sound_name = string(\"./sounds/bouncing60dB.wav\")\n",
    "demo, audio_sr = wavread(sound_name);\n",
    "audio_sr = Int(audio_sr)\n",
    "demo = demo[:,1];\n",
    "wts, gtg_freqs = gtg_weights(audio_sr, gtg_params)\n",
    "demo_gram, t = gammatonegram(demo, wts, audio_sr, gtg_params)\n",
    "scene_duration = length(demo)/audio_sr; \n",
    "\n",
    "args = (scene_duration, audio_sr, wts, gtg_params);"
   ]
  },
  {
   "cell_type": "code",
   "execution_count": null,
   "metadata": {},
   "outputs": [],
   "source": [
    " plot_gtg(demo_gram, scene_duration, audio_sr, 20.0, 100.0)"
   ]
  },
  {
   "cell_type": "code",
   "execution_count": null,
   "metadata": {},
   "outputs": [],
   "source": [
    "run_inference(demo_gram, args, n_blocks=100);"
   ]
  },
  {
   "cell_type": "markdown",
   "metadata": {},
   "source": [
    "We could then do any number of procedures that we saw in the first notebook, for example, predict what sounds each source will make next or predict what would happen behind a masker."
   ]
  }
 ],
 "metadata": {
  "kernelspec": {
   "display_name": "Julia 1.1.0",
   "language": "julia",
   "name": "julia-1.1"
  },
  "language_info": {
   "file_extension": ".jl",
   "mimetype": "application/julia",
   "name": "julia",
   "version": "1.1.0"
  }
 },
 "nbformat": 4,
 "nbformat_minor": 2
}
