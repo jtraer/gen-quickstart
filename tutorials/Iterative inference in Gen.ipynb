{
 "cells": [
  {
   "cell_type": "markdown",
   "metadata": {},
   "source": [
    "# Tutorial: Basics of Iterative Inference Programming in Gen"
   ]
  },
  {
   "cell_type": "markdown",
   "metadata": {},
   "source": [
    "Forked from probcomp, editted by Maddie Cusimano for 2020/03/11 McDermott Lab Meeting"
   ]
  },
  {
   "cell_type": "markdown",
   "metadata": {},
   "source": [
    "This tutorial introduces the basics of inference programming in Gen using iterative inference programs, which include Markov chain Monte Carlo algorithms."
   ]
  },
  {
   "cell_type": "markdown",
   "metadata": {},
   "source": [
    "## The task: curve-fitting with outliers"
   ]
  },
  {
   "cell_type": "markdown",
   "metadata": {},
   "source": [
    "Suppose we have a dataset of points in the $x,y$ plane that is _mostly_ explained by a linear relationship, but which also has several outliers. Our goal will be to automatically identify the outliers, and to find a linear relationship (a slope and intercept, as well as an inherent noise level) that explains rest of the points:\n",
    "\n",
    "<img src=\"./images/example-inference.png\" alt=\"See https://dspace.mit.edu/bitstream/handle/1721.1/119255/MIT-CSAIL-TR-2018-020.pdf, Figure 2(a))\" width=\"600\"/>\n",
    "\n",
    "This is a simple inference problem. But it has two features that make it ideal for introducing a couple new concepts in modeling and inference. First, we want not only to estimate the slope and intercept of the line that best fits the data, but also to classify each point as an inlier or outlier; that is, there are a large number of latent variables of interest, enough to make importance sampling an unreliable method (absent a more involved custom proposal that does the heavy lifting). Second, several of the parameters we're estimating (the slope and intercept) are continuous and amenable to gradient-based search techniques, which will allow us to explore Gen's optimization capabilities.\n",
    "\n",
    "Let's get started!"
   ]
  },
  {
   "cell_type": "markdown",
   "metadata": {},
   "source": [
    "## Outline"
   ]
  },
  {
   "cell_type": "markdown",
   "metadata": {},
   "source": [
    "**Section 1.** [Writing the model: a first attempt](#writing-model)\n",
    "\n",
    "**Section 2.** [Visualizing the model's behavior](#visualizing)\n",
    "\n",
    "**Section 3.** [ The problem with generic importance sampling ](#importance)\n",
    "\n",
    "**Section 4.** [MCMC Inference Part 1: Block Resimulation](#mcmc-1)\n",
    "\n",
    "**Section 5.** [MCMC Inference Part 2: Gaussian Drift](#mcmc-2)\n",
    "\n",
    "**Section 6.** [MCMC Inference Part 3: Proposals based on heuristics](#mcmc-3)\n",
    "\n",
    "**Section 7.** [MAP Optimization](#map)"
   ]
  },
  {
   "cell_type": "code",
   "execution_count": 1,
   "metadata": {},
   "outputs": [],
   "source": [
    "using Gen\n",
    "import Random\n",
    "import PyPlot: scatter"
   ]
  },
  {
   "cell_type": "markdown",
   "metadata": {},
   "source": [
    "## 1. Writing the model: a first attempt  <a name=\"writing-model\"></a>"
   ]
  },
  {
   "cell_type": "markdown",
   "metadata": {},
   "source": [
    "We begin, as usual, by writing a model: a Julia function responsible (conceptually) for simulating a fake dataset.\n",
    "\n",
    "Our model will take as input a vector of `x` coordinates, and produce as output corresponding `y` coordinates. A simple approach to writing this model might look something like this:"
   ]
  },
  {
   "cell_type": "code",
   "execution_count": 2,
   "metadata": {},
   "outputs": [],
   "source": [
    "@gen function model(xs::Vector{Float64})\n",
    "    # First, generate some parameters of the model. We make these\n",
    "    # random choices, because later, we will want to infer them\n",
    "    # from data. The distributions we use here express our assumptions\n",
    "    # about the parameters: we think the slope and intercept won't be\n",
    "    # too far from 0; that the noise is relatively small; and that\n",
    "    # the proportion of the dataset that don't fit a linear relationship\n",
    "    # (outliers) could be anything between 0 and 1.\n",
    "    slope = @trace(normal(0, 2), :slope)\n",
    "    intercept = @trace(normal(0, 2), :intercept)\n",
    "    noise = @trace(gamma(1, 1), :noise)\n",
    "    prob_outlier = @trace(uniform(0, 1), :prob_outlier)\n",
    "    \n",
    "    # Next, we generate the actual y coordinates.\n",
    "    n = length(xs)\n",
    "    ys = Vector{Float64}(undef, n)\n",
    "    \n",
    "    for i = 1:n\n",
    "        # Decide whether this point is an outlier, and set\n",
    "        # mean and standard deviation accordingly\n",
    "        if @trace(bernoulli(prob_outlier), :data => i => :is_outlier)\n",
    "            (mu, std) = (0., 10.)\n",
    "        else\n",
    "            (mu, std) = (xs[i] * slope + intercept, noise)\n",
    "        end\n",
    "        # Sample a y value for this point\n",
    "        ys[i] = @trace(normal(mu, std), :data => i => :y)\n",
    "    end\n",
    "    ys\n",
    "end;"
   ]
  },
  {
   "cell_type": "markdown",
   "metadata": {},
   "source": [
    "## 2. What our model is doing: visualizing the prior "
   ]
  },
  {
   "cell_type": "markdown",
   "metadata": {},
   "source": [
    "Let's visualize what our model is doing by drawing some samples from the prior. First, we'll need to write a function that serializes a trace for use by the GenViz library. Here, we make available the slope, intercept, noise level, and outlier classifications for each point, as these are the things that vary from trace to trace while doing inference."
   ]
  },
  {
   "cell_type": "code",
   "execution_count": 4,
   "metadata": {},
   "outputs": [],
   "source": [
    "using GenViz\n",
    "\n",
    "function serialize_trace(trace)\n",
    "    assmt = Gen.get_choices(trace)\n",
    "    (xs,) = Gen.get_args(trace)\n",
    "    Dict(\"slope\" => assmt[:slope],\n",
    "        \"intercept\" => assmt[:intercept],\n",
    "        \"inlier_std\" => assmt[:noise],\n",
    "        \"y-coords\" => [assmt[:data => i => :y] for i in 1:length(xs)],\n",
    "        \"outliers\" => [assmt[:data => i => :is_outlier] for i in 1:length(xs)])\n",
    "end;"
   ]
  },
  {
   "cell_type": "markdown",
   "metadata": {},
   "source": [
    "Next, we start a visualization server."
   ]
  },
  {
   "cell_type": "code",
   "execution_count": 5,
   "metadata": {},
   "outputs": [],
   "source": [
    "server = VizServer(8091);"
   ]
  },
  {
   "cell_type": "markdown",
   "metadata": {},
   "source": [
    "Finally, we generate some data and draw it:"
   ]
  },
  {
   "cell_type": "code",
   "execution_count": 6,
   "metadata": {},
   "outputs": [
    {
     "data": {
      "text/html": [
       "<div data-v-2e966a4f=\"\"><h1 data-v-2e966a4f=\"\">Traces</h1><div data-v-2e966a4f=\"\" id=\"traces\"><div data-v-2e966a4f=\"\"><svg data-v-2e966a4f=\"\" height=\"155.2\" width=\"155.2\" xmlns=\"http://www.w3.org/2000/svg\" xmlns:xlink=\"http://www.w3.org/1999/xlink\" version=\"1.1\"><circle cx=\"15.52\" cy=\"139.67999999999998\" r=\"3\" fill=\"blue\"></circle><circle cx=\"22.05473684210526\" cy=\"139.55128796137816\" r=\"3\" fill=\"blue\"></circle><circle cx=\"28.589473684210528\" cy=\"132.03370030694273\" r=\"3\" fill=\"blue\"></circle><circle cx=\"35.12421052631579\" cy=\"117.65222051503903\" r=\"3\" fill=\"blue\"></circle><circle cx=\"41.65894736842105\" cy=\"100.28567941375942\" r=\"3\" fill=\"blue\"></circle><circle cx=\"48.193684210526314\" cy=\"117.3388912495037\" r=\"3\" fill=\"blue\"></circle><circle cx=\"54.728421052631575\" cy=\"88.47668363575427\" r=\"3\" fill=\"blue\"></circle><circle cx=\"61.263157894736835\" cy=\"85.12601593051858\" r=\"3\" fill=\"blue\"></circle><circle cx=\"67.7978947368421\" cy=\"85.88821641823098\" r=\"3\" fill=\"blue\"></circle><circle cx=\"74.33263157894736\" cy=\"76.11674366974344\" r=\"3\" fill=\"blue\"></circle><circle cx=\"80.86736842105263\" cy=\"75.9769937540124\" r=\"3\" fill=\"blue\"></circle><circle cx=\"87.40210526315789\" cy=\"69.6590503437495\" r=\"3\" fill=\"blue\"></circle><circle cx=\"93.93684210526315\" cy=\"62.080094047808416\" r=\"3\" fill=\"blue\"></circle><circle cx=\"100.47157894736841\" cy=\"47.62373833425242\" r=\"3\" fill=\"blue\"></circle><circle cx=\"107.00631578947367\" cy=\"42.22316884093961\" r=\"3\" fill=\"blue\"></circle><circle cx=\"113.54105263157894\" cy=\"98.50175469937477\" r=\"3\" fill=\"red\"></circle><circle cx=\"120.0757894736842\" cy=\"40.7404959410882\" r=\"3\" fill=\"blue\"></circle><circle cx=\"126.61052631578947\" cy=\"40.89846037077564\" r=\"3\" fill=\"blue\"></circle><circle cx=\"133.14526315789473\" cy=\"15.519999999999982\" r=\"3\" fill=\"blue\"></circle><circle cx=\"139.68\" cy=\"17.429771451838008\" r=\"3\" fill=\"blue\"></circle><polygon points=\"-200,353.47259027145265 355.2,-232.21721212703292 355.2,-200.8073018635412 -200,384.8825005349444\" style=\"fill: rgba(0, 0, 0, 0.3);\"></polygon><line x1=\"0\" y1=\"80.78977855450006\" x2=\"155.2\" y2=\"80.78977855450006\" style=\"stroke: rgba(0, 0, 0, 0.1); stroke-width: 185.346px;\"></line><line x1=\"-200\" y1=\"369.17754540319856\" x2=\"355.2\" y2=\"-216.51225699528706\" style=\"stroke: rgba(0, 0, 0, 0.7); stroke-width: 2px;\"></line></svg></div><div data-v-2e966a4f=\"\"><svg data-v-2e966a4f=\"\" height=\"155.2\" width=\"155.2\" xmlns=\"http://www.w3.org/2000/svg\" xmlns:xlink=\"http://www.w3.org/1999/xlink\" version=\"1.1\"><circle cx=\"15.52\" cy=\"62.00229812130257\" r=\"3\" fill=\"red\"></circle><circle cx=\"22.05473684210526\" cy=\"15.519999999999982\" r=\"3\" fill=\"blue\"></circle><circle cx=\"28.589473684210528\" cy=\"17.471976471096667\" r=\"3\" fill=\"blue\"></circle><circle cx=\"35.12421052631579\" cy=\"23.342444011247423\" r=\"3\" fill=\"blue\"></circle><circle cx=\"41.65894736842105\" cy=\"32.15088460516358\" r=\"3\" fill=\"blue\"></circle><circle cx=\"48.193684210526314\" cy=\"35.56111656517925\" r=\"3\" fill=\"blue\"></circle><circle cx=\"54.728421052631575\" cy=\"54.230138282779265\" r=\"3\" fill=\"blue\"></circle><circle cx=\"61.263157894736835\" cy=\"53.26334572093528\" r=\"3\" fill=\"blue\"></circle><circle cx=\"67.7978947368421\" cy=\"58.76886184522546\" r=\"3\" fill=\"blue\"></circle><circle cx=\"74.33263157894736\" cy=\"66.22133684191947\" r=\"3\" fill=\"blue\"></circle><circle cx=\"80.86736842105263\" cy=\"68.4216494759073\" r=\"3\" fill=\"blue\"></circle><circle cx=\"87.40210526315789\" cy=\"36.34432914395747\" r=\"3\" fill=\"red\"></circle><circle cx=\"93.93684210526315\" cy=\"92.7563080442716\" r=\"3\" fill=\"blue\"></circle><circle cx=\"100.47157894736841\" cy=\"96.29678816823056\" r=\"3\" fill=\"blue\"></circle><circle cx=\"107.00631578947367\" cy=\"104.82240243784594\" r=\"3\" fill=\"blue\"></circle><circle cx=\"113.54105263157894\" cy=\"117.73088756920465\" r=\"3\" fill=\"blue\"></circle><circle cx=\"120.0757894736842\" cy=\"122.0206255264095\" r=\"3\" fill=\"blue\"></circle><circle cx=\"126.61052631578947\" cy=\"122.95251643987302\" r=\"3\" fill=\"blue\"></circle><circle cx=\"133.14526315789473\" cy=\"132.20653822441597\" r=\"3\" fill=\"blue\"></circle><circle cx=\"139.68\" cy=\"139.67999999999998\" r=\"3\" fill=\"blue\"></circle><polygon points=\"-200,-243.1702859932856 355.2,372.23816242269726 355.2,387.14735211758216 -200,-228.2610962984007\" style=\"fill: rgba(0, 0, 0, 0.3);\"></polygon><line x1=\"0\" y1=\"65.61319919572121\" x2=\"155.2\" y2=\"65.61319919572121\" style=\"stroke: rgba(0, 0, 0, 0.1); stroke-width: 142.988px;\"></line><line x1=\"-200\" y1=\"-235.71569114584318\" x2=\"355.2\" y2=\"379.69275727013974\" style=\"stroke: rgba(0, 0, 0, 0.7); stroke-width: 2px;\"></line></svg></div><div data-v-2e966a4f=\"\"><svg data-v-2e966a4f=\"\" height=\"155.2\" width=\"155.2\" xmlns=\"http://www.w3.org/2000/svg\" xmlns:xlink=\"http://www.w3.org/1999/xlink\" version=\"1.1\"><circle cx=\"15.52\" cy=\"35.003991636963335\" r=\"3\" fill=\"blue\"></circle><circle cx=\"22.05473684210526\" cy=\"32.36891255344041\" r=\"3\" fill=\"blue\"></circle><circle cx=\"28.589473684210528\" cy=\"40.54540295337415\" r=\"3\" fill=\"blue\"></circle><circle cx=\"35.12421052631579\" cy=\"22.62211178544696\" r=\"3\" fill=\"blue\"></circle><circle cx=\"41.65894736842105\" cy=\"139.67999999999998\" r=\"3\" fill=\"red\"></circle><circle cx=\"48.193684210526314\" cy=\"15.519999999999982\" r=\"3\" fill=\"blue\"></circle><circle cx=\"54.728421052631575\" cy=\"57.13208505120302\" r=\"3\" fill=\"blue\"></circle><circle cx=\"61.263157894736835\" cy=\"17.564297520786468\" r=\"3\" fill=\"blue\"></circle><circle cx=\"67.7978947368421\" cy=\"22.380014950431075\" r=\"3\" fill=\"blue\"></circle><circle cx=\"74.33263157894736\" cy=\"38.490698652489925\" r=\"3\" fill=\"blue\"></circle><circle cx=\"80.86736842105263\" cy=\"31.902313220020233\" r=\"3\" fill=\"blue\"></circle><circle cx=\"87.40210526315789\" cy=\"24.039647171547827\" r=\"3\" fill=\"blue\"></circle><circle cx=\"93.93684210526315\" cy=\"25.752263871564622\" r=\"3\" fill=\"blue\"></circle><circle cx=\"100.47157894736841\" cy=\"31.57710983761197\" r=\"3\" fill=\"blue\"></circle><circle cx=\"107.00631578947367\" cy=\"35.079495128944544\" r=\"3\" fill=\"blue\"></circle><circle cx=\"113.54105263157894\" cy=\"30.219703635311177\" r=\"3\" fill=\"blue\"></circle><circle cx=\"120.0757894736842\" cy=\"26.05936517233519\" r=\"3\" fill=\"blue\"></circle><circle cx=\"126.61052631578947\" cy=\"25.45304910986097\" r=\"3\" fill=\"blue\"></circle><circle cx=\"133.14526315789473\" cy=\"28.626948891634896\" r=\"3\" fill=\"blue\"></circle><circle cx=\"139.68\" cy=\"34.34489316886153\" r=\"3\" fill=\"blue\"></circle><polygon points=\"-200,52.20700901715465 355.2,-41.92427079589092 355.2,10.455269309252515 -200,104.58654912229807\" style=\"fill: rgba(0, 0, 0, 0.3);\"></polygon><line x1=\"0\" y1=\"37.15842343163651\" x2=\"155.2\" y2=\"37.15842343163651\" style=\"stroke: rgba(0, 0, 0, 0.1); stroke-width: 128.778px;\"></line><line x1=\"-200\" y1=\"78.39677906972636\" x2=\"355.2\" y2=\"-15.734500743319217\" style=\"stroke: rgba(0, 0, 0, 0.7); stroke-width: 2px;\"></line></svg></div><div data-v-2e966a4f=\"\"><svg data-v-2e966a4f=\"\" height=\"155.2\" width=\"155.2\" xmlns=\"http://www.w3.org/2000/svg\" xmlns:xlink=\"http://www.w3.org/1999/xlink\" version=\"1.1\"><circle cx=\"15.52\" cy=\"62.379042446869775\" r=\"3\" fill=\"red\"></circle><circle cx=\"22.05473684210526\" cy=\"26.90846326983319\" r=\"3\" fill=\"red\"></circle><circle cx=\"28.589473684210528\" cy=\"139.67999999999998\" r=\"3\" fill=\"red\"></circle><circle cx=\"35.12421052631579\" cy=\"25.459432937841356\" r=\"3\" fill=\"red\"></circle><circle cx=\"41.65894736842105\" cy=\"86.01585533717645\" r=\"3\" fill=\"red\"></circle><circle cx=\"48.193684210526314\" cy=\"42.59588619835452\" r=\"3\" fill=\"red\"></circle><circle cx=\"54.728421052631575\" cy=\"114.89141237410776\" r=\"3\" fill=\"red\"></circle><circle cx=\"61.263157894736835\" cy=\"15.519999999999982\" r=\"3\" fill=\"red\"></circle><circle cx=\"67.7978947368421\" cy=\"26.09722124344343\" r=\"3\" fill=\"red\"></circle><circle cx=\"74.33263157894736\" cy=\"60.04800427657179\" r=\"3\" fill=\"red\"></circle><circle cx=\"80.86736842105263\" cy=\"53.95911678142116\" r=\"3\" fill=\"red\"></circle><circle cx=\"87.40210526315789\" cy=\"66.00759423490148\" r=\"3\" fill=\"blue\"></circle><circle cx=\"93.93684210526315\" cy=\"85.73281517237241\" r=\"3\" fill=\"red\"></circle><circle cx=\"100.47157894736841\" cy=\"67.71479918526667\" r=\"3\" fill=\"blue\"></circle><circle cx=\"107.00631578947367\" cy=\"96.71284526810544\" r=\"3\" fill=\"red\"></circle><circle cx=\"113.54105263157894\" cy=\"112.35671619261555\" r=\"3\" fill=\"red\"></circle><circle cx=\"120.0757894736842\" cy=\"67.13106632387264\" r=\"3\" fill=\"blue\"></circle><circle cx=\"126.61052631578947\" cy=\"127.07910738599111\" r=\"3\" fill=\"red\"></circle><circle cx=\"133.14526315789473\" cy=\"60.78441169557382\" r=\"3\" fill=\"red\"></circle><circle cx=\"139.68\" cy=\"72.70544004299784\" r=\"3\" fill=\"red\"></circle><polygon points=\"-200,62.11815669194475 355.2,68.74414821409695 355.2,72.55051742086631 -200,65.9245258987141\" style=\"fill: rgba(0, 0, 0, 0.3);\"></polygon><line x1=\"0\" y1=\"67.73590311194383\" x2=\"155.2\" y2=\"67.73590311194383\" style=\"stroke: rgba(0, 0, 0, 0.1); stroke-width: 162.406px;\"></line><line x1=\"-200\" y1=\"64.02134129532944\" x2=\"355.2\" y2=\"70.64733281748164\" style=\"stroke: rgba(0, 0, 0, 0.7); stroke-width: 2px;\"></line></svg></div><div data-v-2e966a4f=\"\"><svg data-v-2e966a4f=\"\" height=\"155.2\" width=\"155.2\" xmlns=\"http://www.w3.org/2000/svg\" xmlns:xlink=\"http://www.w3.org/1999/xlink\" version=\"1.1\"><circle cx=\"15.52\" cy=\"15.519999999999982\" r=\"3\" fill=\"blue\"></circle><circle cx=\"22.05473684210526\" cy=\"18.798089022924614\" r=\"3\" fill=\"blue\"></circle><circle cx=\"28.589473684210528\" cy=\"30.10647999019183\" r=\"3\" fill=\"blue\"></circle><circle cx=\"35.12421052631579\" cy=\"37.25162114180718\" r=\"3\" fill=\"blue\"></circle><circle cx=\"41.65894736842105\" cy=\"40.363256965192335\" r=\"3\" fill=\"blue\"></circle><circle cx=\"48.193684210526314\" cy=\"84.59999960549061\" r=\"3\" fill=\"red\"></circle><circle cx=\"54.728421052631575\" cy=\"57.392476926116046\" r=\"3\" fill=\"blue\"></circle><circle cx=\"61.263157894736835\" cy=\"64.90238525093993\" r=\"3\" fill=\"blue\"></circle><circle cx=\"67.7978947368421\" cy=\"71.48784808822323\" r=\"3\" fill=\"blue\"></circle><circle cx=\"74.33263157894736\" cy=\"76.96971578276187\" r=\"3\" fill=\"blue\"></circle><circle cx=\"80.86736842105263\" cy=\"85.65332699759475\" r=\"3\" fill=\"blue\"></circle><circle cx=\"87.40210526315789\" cy=\"92.84210331747934\" r=\"3\" fill=\"blue\"></circle><circle cx=\"93.93684210526315\" cy=\"96.53179945377363\" r=\"3\" fill=\"blue\"></circle><circle cx=\"100.47157894736841\" cy=\"104.22766372962424\" r=\"3\" fill=\"blue\"></circle><circle cx=\"107.00631578947367\" cy=\"108.88829289378748\" r=\"3\" fill=\"blue\"></circle><circle cx=\"113.54105263157894\" cy=\"117.58691798633936\" r=\"3\" fill=\"blue\"></circle><circle cx=\"120.0757894736842\" cy=\"122.44091731352177\" r=\"3\" fill=\"blue\"></circle><circle cx=\"126.61052631578947\" cy=\"110.1632155588555\" r=\"3\" fill=\"red\"></circle><circle cx=\"133.14526315789473\" cy=\"46.56519022121746\" r=\"3\" fill=\"red\"></circle><circle cx=\"139.68\" cy=\"139.67999999999998\" r=\"3\" fill=\"blue\"></circle><polygon points=\"-200,-216.63525947753047 355.2,368.3893237413745 355.2,377.1043397538283 -200,-207.9202434650766\" style=\"fill: rgba(0, 0, 0, 0.3);\"></polygon><line x1=\"0\" y1=\"84.08046546144914\" x2=\"155.2\" y2=\"84.08046546144914\" style=\"stroke: rgba(0, 0, 0, 0.1); stroke-width: 126.514px;\"></line><line x1=\"-200\" y1=\"-212.2777514713035\" x2=\"355.2\" y2=\"372.74683174760145\" style=\"stroke: rgba(0, 0, 0, 0.7); stroke-width: 2px;\"></line></svg></div><div data-v-2e966a4f=\"\"><svg data-v-2e966a4f=\"\" height=\"155.2\" width=\"155.2\" xmlns=\"http://www.w3.org/2000/svg\" xmlns:xlink=\"http://www.w3.org/1999/xlink\" version=\"1.1\"><circle cx=\"15.52\" cy=\"15.519999999999982\" r=\"3\" fill=\"red\"></circle><circle cx=\"22.05473684210526\" cy=\"105.71936971758709\" r=\"3\" fill=\"blue\"></circle><circle cx=\"28.589473684210528\" cy=\"103.24017851338155\" r=\"3\" fill=\"blue\"></circle><circle cx=\"35.12421052631579\" cy=\"98.83095784634666\" r=\"3\" fill=\"blue\"></circle><circle cx=\"41.65894736842105\" cy=\"95.86843440211553\" r=\"3\" fill=\"blue\"></circle><circle cx=\"48.193684210526314\" cy=\"60.94294605420872\" r=\"3\" fill=\"red\"></circle><circle cx=\"54.728421052631575\" cy=\"91.42396178088038\" r=\"3\" fill=\"blue\"></circle><circle cx=\"61.263157894736835\" cy=\"132.95757497884276\" r=\"3\" fill=\"red\"></circle><circle cx=\"67.7978947368421\" cy=\"81.6875755954746\" r=\"3\" fill=\"blue\"></circle><circle cx=\"74.33263157894736\" cy=\"139.67999999999998\" r=\"3\" fill=\"red\"></circle><circle cx=\"80.86736842105263\" cy=\"63.73473451278474\" r=\"3\" fill=\"red\"></circle><circle cx=\"87.40210526315789\" cy=\"71.0859773315357\" r=\"3\" fill=\"blue\"></circle><circle cx=\"93.93684210526315\" cy=\"67.74264971839301\" r=\"3\" fill=\"blue\"></circle><circle cx=\"100.47157894736841\" cy=\"62.140202508689924\" r=\"3\" fill=\"blue\"></circle><circle cx=\"107.00631578947367\" cy=\"58.19858468416746\" r=\"3\" fill=\"blue\"></circle><circle cx=\"113.54105263157894\" cy=\"56.105613396452824\" r=\"3\" fill=\"blue\"></circle><circle cx=\"120.0757894736842\" cy=\"52.64167554447033\" r=\"3\" fill=\"blue\"></circle><circle cx=\"126.61052631578947\" cy=\"49.35592617990572\" r=\"3\" fill=\"blue\"></circle><circle cx=\"133.14526315789473\" cy=\"60.479425445176915\" r=\"3\" fill=\"red\"></circle><circle cx=\"139.68\" cy=\"42.36575102626213\" r=\"3\" fill=\"blue\"></circle><polygon points=\"-200,226.83124753808147 355.2,-78.92990437930737 355.2,-74.59455307312342 -200,231.16659884426542\" style=\"fill: rgba(0, 0, 0, 0.3);\"></polygon><line x1=\"0\" y1=\"76.83422549074444\" x2=\"155.2\" y2=\"76.83422549074444\" style=\"stroke: rgba(0, 0, 0, 0.1); stroke-width: 151.999px;\"></line><line x1=\"-200\" y1=\"228.99892319117345\" x2=\"355.2\" y2=\"-76.7622287262154\" style=\"stroke: rgba(0, 0, 0, 0.7); stroke-width: 2px;\"></line></svg></div><div data-v-2e966a4f=\"\"><svg data-v-2e966a4f=\"\" height=\"155.2\" width=\"155.2\" xmlns=\"http://www.w3.org/2000/svg\" xmlns:xlink=\"http://www.w3.org/1999/xlink\" version=\"1.1\"><circle cx=\"15.52\" cy=\"139.67999999999998\" r=\"3\" fill=\"blue\"></circle><circle cx=\"22.05473684210526\" cy=\"133.16427452500406\" r=\"3\" fill=\"blue\"></circle><circle cx=\"28.589473684210528\" cy=\"126.52898646835362\" r=\"3\" fill=\"blue\"></circle><circle cx=\"35.12421052631579\" cy=\"119.99621527353986\" r=\"3\" fill=\"blue\"></circle><circle cx=\"41.65894736842105\" cy=\"113.47217318641657\" r=\"3\" fill=\"blue\"></circle><circle cx=\"48.193684210526314\" cy=\"107.19171496785725\" r=\"3\" fill=\"blue\"></circle><circle cx=\"54.728421052631575\" cy=\"100.51909832731351\" r=\"3\" fill=\"blue\"></circle><circle cx=\"61.263157894736835\" cy=\"93.969541502981\" r=\"3\" fill=\"blue\"></circle><circle cx=\"67.7978947368421\" cy=\"87.29995025626366\" r=\"3\" fill=\"blue\"></circle><circle cx=\"74.33263157894736\" cy=\"81.05908061180611\" r=\"3\" fill=\"blue\"></circle><circle cx=\"80.86736842105263\" cy=\"74.37894496344813\" r=\"3\" fill=\"blue\"></circle><circle cx=\"87.40210526315789\" cy=\"67.9211287049241\" r=\"3\" fill=\"blue\"></circle><circle cx=\"93.93684210526315\" cy=\"87.8199018227405\" r=\"3\" fill=\"red\"></circle><circle cx=\"100.47157894736841\" cy=\"43.35474775157519\" r=\"3\" fill=\"red\"></circle><circle cx=\"107.00631578947367\" cy=\"48.10304219782465\" r=\"3\" fill=\"blue\"></circle><circle cx=\"113.54105263157894\" cy=\"41.5687203888569\" r=\"3\" fill=\"blue\"></circle><circle cx=\"120.0757894736842\" cy=\"35.259533391695115\" r=\"3\" fill=\"blue\"></circle><circle cx=\"126.61052631578947\" cy=\"29.17790263674513\" r=\"3\" fill=\"red\"></circle><circle cx=\"133.14526315789473\" cy=\"22.336460808045388\" r=\"3\" fill=\"blue\"></circle><circle cx=\"139.68\" cy=\"15.519999999999982\" r=\"3\" fill=\"blue\"></circle><polygon points=\"-200,354.42201203259407 355.2,-199.614158837156 355.2,-199.12067242801024 -200,354.9154984417398\" style=\"fill: rgba(0, 0, 0, 0.3);\"></polygon><line x1=\"0\" y1=\"84.2499510727299\" x2=\"155.2\" y2=\"84.2499510727299\" style=\"stroke: rgba(0, 0, 0, 0.1); stroke-width: 110.587px;\"></line><line x1=\"-200\" y1=\"354.6687552371669\" x2=\"355.2\" y2=\"-199.36741563258315\" style=\"stroke: rgba(0, 0, 0, 0.7); stroke-width: 2px;\"></line></svg></div><div data-v-2e966a4f=\"\"><svg data-v-2e966a4f=\"\" height=\"155.2\" width=\"155.2\" xmlns=\"http://www.w3.org/2000/svg\" xmlns:xlink=\"http://www.w3.org/1999/xlink\" version=\"1.1\"><circle cx=\"15.52\" cy=\"126.96477314850493\" r=\"3\" fill=\"blue\"></circle><circle cx=\"22.05473684210526\" cy=\"139.67999999999998\" r=\"3\" fill=\"blue\"></circle><circle cx=\"28.589473684210528\" cy=\"121.86075347892941\" r=\"3\" fill=\"red\"></circle><circle cx=\"35.12421052631579\" cy=\"84.04198614746244\" r=\"3\" fill=\"red\"></circle><circle cx=\"41.65894736842105\" cy=\"63.78432092631549\" r=\"3\" fill=\"red\"></circle><circle cx=\"48.193684210526314\" cy=\"113.73239081497076\" r=\"3\" fill=\"blue\"></circle><circle cx=\"54.728421052631575\" cy=\"15.729586730875866\" r=\"3\" fill=\"red\"></circle><circle cx=\"61.263157894736835\" cy=\"15.519999999999982\" r=\"3\" fill=\"red\"></circle><circle cx=\"67.7978947368421\" cy=\"81.06601409210373\" r=\"3\" fill=\"red\"></circle><circle cx=\"74.33263157894736\" cy=\"95.85488570788951\" r=\"3\" fill=\"blue\"></circle><circle cx=\"80.86736842105263\" cy=\"131.50831513240095\" r=\"3\" fill=\"red\"></circle><circle cx=\"87.40210526315789\" cy=\"91.80474197506209\" r=\"3\" fill=\"blue\"></circle><circle cx=\"93.93684210526315\" cy=\"117.25333280215249\" r=\"3\" fill=\"red\"></circle><circle cx=\"100.47157894736841\" cy=\"131.16862517942326\" r=\"3\" fill=\"red\"></circle><circle cx=\"107.00631578947367\" cy=\"83.27053064967086\" r=\"3\" fill=\"blue\"></circle><circle cx=\"113.54105263157894\" cy=\"113.79643748582825\" r=\"3\" fill=\"red\"></circle><circle cx=\"120.0757894736842\" cy=\"68.55913489688744\" r=\"3\" fill=\"blue\"></circle><circle cx=\"126.61052631578947\" cy=\"71.21736611003121\" r=\"3\" fill=\"blue\"></circle><circle cx=\"133.14526315789473\" cy=\"57.568315758530986\" r=\"3\" fill=\"blue\"></circle><circle cx=\"139.68\" cy=\"80.2534082651965\" r=\"3\" fill=\"blue\"></circle><polygon points=\"-200,252.69085839001318 355.2,-66.08536650590915 355.2,-47.546052071707294 -200,271.23017282421506\" style=\"fill: rgba(0, 0, 0, 0.3);\"></polygon><line x1=\"0\" y1=\"85.94587880494993\" x2=\"155.2\" y2=\"85.94587880494993\" style=\"stroke: rgba(0, 0, 0, 0.1); stroke-width: 198.705px;\"></line><line x1=\"-200\" y1=\"261.96051560711413\" x2=\"355.2\" y2=\"-56.81570928880825\" style=\"stroke: rgba(0, 0, 0, 0.7); stroke-width: 2px;\"></line></svg></div><div data-v-2e966a4f=\"\"><svg data-v-2e966a4f=\"\" height=\"155.2\" width=\"155.2\" xmlns=\"http://www.w3.org/2000/svg\" xmlns:xlink=\"http://www.w3.org/1999/xlink\" version=\"1.1\"><circle cx=\"15.52\" cy=\"62.145812542475724\" r=\"3\" fill=\"red\"></circle><circle cx=\"22.05473684210526\" cy=\"54.374932400771556\" r=\"3\" fill=\"red\"></circle><circle cx=\"28.589473684210528\" cy=\"15.519999999999982\" r=\"3\" fill=\"red\"></circle><circle cx=\"35.12421052631579\" cy=\"60.22040207751701\" r=\"3\" fill=\"red\"></circle><circle cx=\"41.65894736842105\" cy=\"38.30335140863211\" r=\"3\" fill=\"red\"></circle><circle cx=\"48.193684210526314\" cy=\"112.01620945519657\" r=\"3\" fill=\"red\"></circle><circle cx=\"54.728421052631575\" cy=\"100.49453364907234\" r=\"3\" fill=\"red\"></circle><circle cx=\"61.263157894736835\" cy=\"106.49192060234154\" r=\"3\" fill=\"red\"></circle><circle cx=\"67.7978947368421\" cy=\"139.67999999999998\" r=\"3\" fill=\"red\"></circle><circle cx=\"74.33263157894736\" cy=\"91.528560655575\" r=\"3\" fill=\"red\"></circle><circle cx=\"80.86736842105263\" cy=\"103.54946905888413\" r=\"3\" fill=\"red\"></circle><circle cx=\"87.40210526315789\" cy=\"73.63524844049417\" r=\"3\" fill=\"blue\"></circle><circle cx=\"93.93684210526315\" cy=\"26.090846270258183\" r=\"3\" fill=\"red\"></circle><circle cx=\"100.47157894736841\" cy=\"54.06162444011818\" r=\"3\" fill=\"red\"></circle><circle cx=\"107.00631578947367\" cy=\"55.63134203215459\" r=\"3\" fill=\"red\"></circle><circle cx=\"113.54105263157894\" cy=\"45.63165279583211\" r=\"3\" fill=\"red\"></circle><circle cx=\"120.0757894736842\" cy=\"105.35438630276782\" r=\"3\" fill=\"blue\"></circle><circle cx=\"126.61052631578947\" cy=\"118.0592169787536\" r=\"3\" fill=\"blue\"></circle><circle cx=\"133.14526315789473\" cy=\"124.5678377330194\" r=\"3\" fill=\"blue\"></circle><circle cx=\"139.68\" cy=\"52.18166188481608\" r=\"3\" fill=\"red\"></circle><polygon points=\"-200,-223.87678944384604 355.2,341.1400186419902 355.2,359.5118402904725 -200,-205.50496779536363\" style=\"fill: rgba(0, 0, 0, 0.3);\"></polygon><line x1=\"0\" y1=\"71.00572596167433\" x2=\"155.2\" y2=\"71.00572596167433\" style=\"stroke: rgba(0, 0, 0, 0.1); stroke-width: 145.709px;\"></line><line x1=\"-200\" y1=\"-214.69087861960483\" x2=\"355.2\" y2=\"350.3259294662313\" style=\"stroke: rgba(0, 0, 0, 0.7); stroke-width: 2px;\"></line></svg></div><div data-v-2e966a4f=\"\"><svg data-v-2e966a4f=\"\" height=\"155.2\" width=\"155.2\" xmlns=\"http://www.w3.org/2000/svg\" xmlns:xlink=\"http://www.w3.org/1999/xlink\" version=\"1.1\"><circle cx=\"15.52\" cy=\"15.519999999999982\" r=\"3\" fill=\"red\"></circle><circle cx=\"22.05473684210526\" cy=\"75.9001056839544\" r=\"3\" fill=\"red\"></circle><circle cx=\"28.589473684210528\" cy=\"67.0695051093443\" r=\"3\" fill=\"red\"></circle><circle cx=\"35.12421052631579\" cy=\"139.46461764074667\" r=\"3\" fill=\"red\"></circle><circle cx=\"41.65894736842105\" cy=\"27.870677306468238\" r=\"3\" fill=\"red\"></circle><circle cx=\"48.193684210526314\" cy=\"26.305200412012297\" r=\"3\" fill=\"red\"></circle><circle cx=\"54.728421052631575\" cy=\"98.10249280915428\" r=\"3\" fill=\"red\"></circle><circle cx=\"61.263157894736835\" cy=\"52.56772256603091\" r=\"3\" fill=\"red\"></circle><circle cx=\"67.7978947368421\" cy=\"39.75415105059709\" r=\"3\" fill=\"red\"></circle><circle cx=\"74.33263157894736\" cy=\"44.93486266048227\" r=\"3\" fill=\"red\"></circle><circle cx=\"80.86736842105263\" cy=\"65.45468902850894\" r=\"3\" fill=\"red\"></circle><circle cx=\"87.40210526315789\" cy=\"25.47237838633214\" r=\"3\" fill=\"red\"></circle><circle cx=\"93.93684210526315\" cy=\"88.99536091930213\" r=\"3\" fill=\"red\"></circle><circle cx=\"100.47157894736841\" cy=\"101.20446014436665\" r=\"3\" fill=\"red\"></circle><circle cx=\"107.00631578947367\" cy=\"139.67999999999998\" r=\"3\" fill=\"red\"></circle><circle cx=\"113.54105263157894\" cy=\"44.4053068059397\" r=\"3\" fill=\"red\"></circle><circle cx=\"120.0757894736842\" cy=\"26.99324349045027\" r=\"3\" fill=\"red\"></circle><circle cx=\"126.61052631578947\" cy=\"33.529102355518276\" r=\"3\" fill=\"red\"></circle><circle cx=\"133.14526315789473\" cy=\"108.41251600195987\" r=\"3\" fill=\"red\"></circle><circle cx=\"139.68\" cy=\"32.97638806658533\" r=\"3\" fill=\"red\"></circle><polygon points=\"-200,313.1942693581018 355.2,-142.30171325872018 355.2,-136.9688438775028 -200,318.5271387393192\" style=\"fill: rgba(0, 0, 0, 0.3);\"></polygon><line x1=\"0\" y1=\"74.84554696472021\" x2=\"155.2\" y2=\"74.84554696472021\" style=\"stroke: rgba(0, 0, 0, 0.1); stroke-width: 188.923px;\"></line><line x1=\"-200\" y1=\"315.86070404871043\" x2=\"355.2\" y2=\"-139.6352785681115\" style=\"stroke: rgba(0, 0, 0, 0.7); stroke-width: 2px;\"></line></svg></div></div></div><style>body, html { margin-left: 0px; margin-right: 0px; }\n",
       "h1[data-v-2e966a4f] { font-family: Avenir, Helvetica, Arial, sans-serif; text-align: center; }\n",
       "#traces[data-v-2e966a4f] { display: flex; -moz-box-orient: horizontal; -moz-box-direction: normal; flex-flow: row wrap; }\n",
       "#app { font-family: Avenir, Helvetica, Arial, sans-serif; -moz-osx-font-smoothing: grayscale; color: rgb(44, 62, 80); }</style>"
      ]
     },
     "metadata": {},
     "output_type": "display_data"
    }
   ],
   "source": [
    "# Get some x coordinates and initialize a visualization\n",
    "xs = collect(range(-5, stop=5, length=20))\n",
    "viz = Viz(server, joinpath(@__DIR__, \"regression-viz/dist\"), [xs])\n",
    "\n",
    "# Generate ten traces and draw them into the visualization\n",
    "for i=1:10\n",
    "    (trace, _) = Gen.generate(model, (xs,))\n",
    "    ys = Gen.get_retval(trace)\n",
    "    putTrace!(viz, \"t$(i)\", serialize_trace(trace))\n",
    "end\n",
    "\n",
    "# Display the visualization in this notebook\n",
    "displayInNotebook(viz)"
   ]
  },
  {
   "cell_type": "markdown",
   "metadata": {},
   "source": [
    "Note that an outlier can occur anywhere — including close to the line — and that our model is capable of generating datasets in which the vast majority of points are outliers."
   ]
  },
  {
   "cell_type": "markdown",
   "metadata": {},
   "source": [
    "## 3. The problem with generic importance sampling  <a name=\"generic-importance\"></a>"
   ]
  },
  {
   "cell_type": "markdown",
   "metadata": {},
   "source": [
    "To motivate the need for more complex inference algorithms, let's begin by using the simple importance sampling method from the previous tutorial, and thinking about where it fails.\n",
    "\n",
    "First, let us create a synthetic dataset to do inference _about_."
   ]
  },
  {
   "cell_type": "code",
   "execution_count": 8,
   "metadata": {},
   "outputs": [],
   "source": [
    "function make_synthetic_dataset(n)\n",
    "    Random.seed!(1)\n",
    "    prob_outlier = 0.2\n",
    "    true_inlier_noise = 0.5\n",
    "    true_outlier_noise = 5.0\n",
    "    true_slope = -1\n",
    "    true_intercept = 2\n",
    "    xs = collect(range(-5, stop=5, length=n))\n",
    "    ys = Float64[]\n",
    "    for (i, x) in enumerate(xs)\n",
    "        if rand() < prob_outlier\n",
    "            y = randn() * true_outlier_noise\n",
    "        else\n",
    "            y = true_slope * x + true_intercept + randn() * true_inlier_noise\n",
    "        end\n",
    "        push!(ys, y)\n",
    "    end\n",
    "    (xs, ys)\n",
    "end\n",
    "    \n",
    "(xs, ys) = make_synthetic_dataset(20);"
   ]
  },
  {
   "cell_type": "markdown",
   "metadata": {},
   "source": [
    "In Gen, we express our _observations_ as an _Assignment_ that constrains the values of certain random choices to equal their observed values. Here, we want to constrain the values of the choices with address `:data => i => :y` (that is, the sampled $y$ coordinates) to equal the observed $y$ values. Let's write a helper function that takes in a vector of $y$ values and creates an Assignment that we can use to constrain our model:"
   ]
  },
  {
   "cell_type": "code",
   "execution_count": 9,
   "metadata": {},
   "outputs": [],
   "source": [
    "function make_constraints(ys::Vector{Float64})\n",
    "    constraints = Gen.choicemap()\n",
    "    for i=1:length(ys)\n",
    "        constraints[:data => i => :y] = ys[i]\n",
    "    end\n",
    "    constraints\n",
    "end;"
   ]
  },
  {
   "cell_type": "markdown",
   "metadata": {},
   "source": [
    "We can apply it to our dataset's vector of `ys` to make a set of constraints for doing inference:"
   ]
  },
  {
   "cell_type": "code",
   "execution_count": 10,
   "metadata": {},
   "outputs": [],
   "source": [
    "observations = make_constraints(ys);"
   ]
  },
  {
   "cell_type": "markdown",
   "metadata": {},
   "source": [
    "Now, we use the library function `importance_resampling` to draw approximate posterior samples given those observations:"
   ]
  },
  {
   "cell_type": "code",
   "execution_count": 11,
   "metadata": {},
   "outputs": [
    {
     "data": {
      "text/plain": [
       "logmeanexp (generic function with 1 method)"
      ]
     },
     "execution_count": 11,
     "metadata": {},
     "output_type": "execute_result"
    }
   ],
   "source": [
    "function logmeanexp(scores)\n",
    "    logsumexp(scores) - log(length(scores))\n",
    "end"
   ]
  },
  {
   "cell_type": "code",
   "execution_count": 12,
   "metadata": {},
   "outputs": [
    {
     "data": {
      "text/html": [
       "<div data-v-2e966a4f=\"\"><h1 data-v-2e966a4f=\"\">Traces</h1><div data-v-2e966a4f=\"\" id=\"traces\"><div data-v-2e966a4f=\"\"><svg data-v-2e966a4f=\"\" height=\"155.2\" width=\"155.2\" xmlns=\"http://www.w3.org/2000/svg\" xmlns:xlink=\"http://www.w3.org/1999/xlink\" version=\"1.1\"><circle cx=\"15.52\" cy=\"15.519999999999982\" r=\"3\" fill=\"blue\"></circle><circle cx=\"22.05473684210526\" cy=\"20.570354698314958\" r=\"3\" fill=\"blue\"></circle><circle cx=\"28.589473684210528\" cy=\"23.124666382317642\" r=\"3\" fill=\"blue\"></circle><circle cx=\"35.12421052631579\" cy=\"35.8104642423512\" r=\"3\" fill=\"red\"></circle><circle cx=\"41.65894736842105\" cy=\"30.059917338016803\" r=\"3\" fill=\"blue\"></circle><circle cx=\"48.193684210526314\" cy=\"31.879482059463527\" r=\"3\" fill=\"red\"></circle><circle cx=\"54.728421052631575\" cy=\"40.747868991422834\" r=\"3\" fill=\"red\"></circle><circle cx=\"61.263157894736835\" cy=\"42.77694457625333\" r=\"3\" fill=\"blue\"></circle><circle cx=\"67.7978947368421\" cy=\"52.476091750263606\" r=\"3\" fill=\"red\"></circle><circle cx=\"74.33263157894736\" cy=\"92.2418569779811\" r=\"3\" fill=\"red\"></circle><circle cx=\"80.86736842105263\" cy=\"50.853104239554554\" r=\"3\" fill=\"red\"></circle><circle cx=\"87.40210526315789\" cy=\"55.38725102488762\" r=\"3\" fill=\"blue\"></circle><circle cx=\"93.93684210526315\" cy=\"19.05922153518887\" r=\"3\" fill=\"red\"></circle><circle cx=\"100.47157894736841\" cy=\"91.81669257471873\" r=\"3\" fill=\"red\"></circle><circle cx=\"107.00631578947367\" cy=\"68.53108392411022\" r=\"3\" fill=\"red\"></circle><circle cx=\"113.54105263157894\" cy=\"139.67999999999998\" r=\"3\" fill=\"red\"></circle><circle cx=\"120.0757894736842\" cy=\"23.059084592089675\" r=\"3\" fill=\"red\"></circle><circle cx=\"126.61052631578947\" cy=\"76.71109518084299\" r=\"3\" fill=\"blue\"></circle><circle cx=\"133.14526315789473\" cy=\"88.3274184162619\" r=\"3\" fill=\"red\"></circle><circle cx=\"139.68\" cy=\"93.03391266237722\" r=\"3\" fill=\"blue\"></circle><polygon points=\"-200,-137.67252579033712 355.2,235.91940553574287 355.2,253.0344810273612 -200,-120.55745029871875\" style=\"fill: rgba(0, 0, 0, 0.3);\"></polygon><line x1=\"0\" y1=\"65.77082553082519\" x2=\"155.2\" y2=\"65.77082553082519\" style=\"stroke: rgba(0, 0, 0, 0.1); stroke-width: 279.513px;\"></line><line x1=\"-200\" y1=\"-129.11498804452796\" x2=\"355.2\" y2=\"244.47694328155205\" style=\"stroke: rgba(0, 0, 0, 0.7); stroke-width: 2px;\"></line></svg></div><div data-v-2e966a4f=\"\"><svg data-v-2e966a4f=\"\" height=\"155.2\" width=\"155.2\" xmlns=\"http://www.w3.org/2000/svg\" xmlns:xlink=\"http://www.w3.org/1999/xlink\" version=\"1.1\"><circle cx=\"15.52\" cy=\"15.519999999999982\" r=\"3\" fill=\"blue\"></circle><circle cx=\"22.05473684210526\" cy=\"20.570354698314958\" r=\"3\" fill=\"blue\"></circle><circle cx=\"28.589473684210528\" cy=\"23.124666382317642\" r=\"3\" fill=\"red\"></circle><circle cx=\"35.12421052631579\" cy=\"35.8104642423512\" r=\"3\" fill=\"blue\"></circle><circle cx=\"41.65894736842105\" cy=\"30.059917338016803\" r=\"3\" fill=\"red\"></circle><circle cx=\"48.193684210526314\" cy=\"31.879482059463527\" r=\"3\" fill=\"red\"></circle><circle cx=\"54.728421052631575\" cy=\"40.747868991422834\" r=\"3\" fill=\"red\"></circle><circle cx=\"61.263157894736835\" cy=\"42.77694457625333\" r=\"3\" fill=\"blue\"></circle><circle cx=\"67.7978947368421\" cy=\"52.476091750263606\" r=\"3\" fill=\"blue\"></circle><circle cx=\"74.33263157894736\" cy=\"92.2418569779811\" r=\"3\" fill=\"blue\"></circle><circle cx=\"80.86736842105263\" cy=\"50.853104239554554\" r=\"3\" fill=\"red\"></circle><circle cx=\"87.40210526315789\" cy=\"55.38725102488762\" r=\"3\" fill=\"blue\"></circle><circle cx=\"93.93684210526315\" cy=\"19.05922153518887\" r=\"3\" fill=\"red\"></circle><circle cx=\"100.47157894736841\" cy=\"91.81669257471873\" r=\"3\" fill=\"blue\"></circle><circle cx=\"107.00631578947367\" cy=\"68.53108392411022\" r=\"3\" fill=\"blue\"></circle><circle cx=\"113.54105263157894\" cy=\"139.67999999999998\" r=\"3\" fill=\"red\"></circle><circle cx=\"120.0757894736842\" cy=\"23.059084592089675\" r=\"3\" fill=\"red\"></circle><circle cx=\"126.61052631578947\" cy=\"76.71109518084299\" r=\"3\" fill=\"blue\"></circle><circle cx=\"133.14526315789473\" cy=\"88.3274184162619\" r=\"3\" fill=\"red\"></circle><circle cx=\"139.68\" cy=\"93.03391266237722\" r=\"3\" fill=\"blue\"></circle><polygon points=\"-200,-80.70062177054524 355.2,118.27757003405779 355.2,183.6397924701961 -200,-15.338399334406915\" style=\"fill: rgba(0, 0, 0, 0.3);\"></polygon><line x1=\"0\" y1=\"65.77082553082519\" x2=\"155.2\" y2=\"65.77082553082519\" style=\"stroke: rgba(0, 0, 0, 0.1); stroke-width: 279.513px;\"></line><line x1=\"-200\" y1=\"-48.01951055247605\" x2=\"355.2\" y2=\"150.95868125212695\" style=\"stroke: rgba(0, 0, 0, 0.7); stroke-width: 2px;\"></line></svg></div><div data-v-2e966a4f=\"\"><svg data-v-2e966a4f=\"\" height=\"155.2\" width=\"155.2\" xmlns=\"http://www.w3.org/2000/svg\" xmlns:xlink=\"http://www.w3.org/1999/xlink\" version=\"1.1\"><circle cx=\"15.52\" cy=\"15.519999999999982\" r=\"3\" fill=\"blue\"></circle><circle cx=\"22.05473684210526\" cy=\"20.570354698314958\" r=\"3\" fill=\"blue\"></circle><circle cx=\"28.589473684210528\" cy=\"23.124666382317642\" r=\"3\" fill=\"blue\"></circle><circle cx=\"35.12421052631579\" cy=\"35.8104642423512\" r=\"3\" fill=\"blue\"></circle><circle cx=\"41.65894736842105\" cy=\"30.059917338016803\" r=\"3\" fill=\"blue\"></circle><circle cx=\"48.193684210526314\" cy=\"31.879482059463527\" r=\"3\" fill=\"blue\"></circle><circle cx=\"54.728421052631575\" cy=\"40.747868991422834\" r=\"3\" fill=\"blue\"></circle><circle cx=\"61.263157894736835\" cy=\"42.77694457625333\" r=\"3\" fill=\"red\"></circle><circle cx=\"67.7978947368421\" cy=\"52.476091750263606\" r=\"3\" fill=\"red\"></circle><circle cx=\"74.33263157894736\" cy=\"92.2418569779811\" r=\"3\" fill=\"red\"></circle><circle cx=\"80.86736842105263\" cy=\"50.853104239554554\" r=\"3\" fill=\"red\"></circle><circle cx=\"87.40210526315789\" cy=\"55.38725102488762\" r=\"3\" fill=\"red\"></circle><circle cx=\"93.93684210526315\" cy=\"19.05922153518887\" r=\"3\" fill=\"blue\"></circle><circle cx=\"100.47157894736841\" cy=\"91.81669257471873\" r=\"3\" fill=\"blue\"></circle><circle cx=\"107.00631578947367\" cy=\"68.53108392411022\" r=\"3\" fill=\"blue\"></circle><circle cx=\"113.54105263157894\" cy=\"139.67999999999998\" r=\"3\" fill=\"red\"></circle><circle cx=\"120.0757894736842\" cy=\"23.059084592089675\" r=\"3\" fill=\"red\"></circle><circle cx=\"126.61052631578947\" cy=\"76.71109518084299\" r=\"3\" fill=\"blue\"></circle><circle cx=\"133.14526315789473\" cy=\"88.3274184162619\" r=\"3\" fill=\"blue\"></circle><circle cx=\"139.68\" cy=\"93.03391266237722\" r=\"3\" fill=\"blue\"></circle><polygon points=\"-200,-153.18874782137007 355.2,212.29391519693297 355.2,267.47175463847566 -200,-98.01090837982747\" style=\"fill: rgba(0, 0, 0, 0.3);\"></polygon><line x1=\"0\" y1=\"65.77082553082519\" x2=\"155.2\" y2=\"65.77082553082519\" style=\"stroke: rgba(0, 0, 0, 0.1); stroke-width: 279.513px;\"></line><line x1=\"-200\" y1=\"-125.59982810059878\" x2=\"355.2\" y2=\"239.88283491770432\" style=\"stroke: rgba(0, 0, 0, 0.7); stroke-width: 2px;\"></line></svg></div><div data-v-2e966a4f=\"\"><svg data-v-2e966a4f=\"\" height=\"155.2\" width=\"155.2\" xmlns=\"http://www.w3.org/2000/svg\" xmlns:xlink=\"http://www.w3.org/1999/xlink\" version=\"1.1\"><circle cx=\"15.52\" cy=\"15.519999999999982\" r=\"3\" fill=\"blue\"></circle><circle cx=\"22.05473684210526\" cy=\"20.570354698314958\" r=\"3\" fill=\"blue\"></circle><circle cx=\"28.589473684210528\" cy=\"23.124666382317642\" r=\"3\" fill=\"blue\"></circle><circle cx=\"35.12421052631579\" cy=\"35.8104642423512\" r=\"3\" fill=\"red\"></circle><circle cx=\"41.65894736842105\" cy=\"30.059917338016803\" r=\"3\" fill=\"blue\"></circle><circle cx=\"48.193684210526314\" cy=\"31.879482059463527\" r=\"3\" fill=\"blue\"></circle><circle cx=\"54.728421052631575\" cy=\"40.747868991422834\" r=\"3\" fill=\"blue\"></circle><circle cx=\"61.263157894736835\" cy=\"42.77694457625333\" r=\"3\" fill=\"blue\"></circle><circle cx=\"67.7978947368421\" cy=\"52.476091750263606\" r=\"3\" fill=\"blue\"></circle><circle cx=\"74.33263157894736\" cy=\"92.2418569779811\" r=\"3\" fill=\"blue\"></circle><circle cx=\"80.86736842105263\" cy=\"50.853104239554554\" r=\"3\" fill=\"blue\"></circle><circle cx=\"87.40210526315789\" cy=\"55.38725102488762\" r=\"3\" fill=\"blue\"></circle><circle cx=\"93.93684210526315\" cy=\"19.05922153518887\" r=\"3\" fill=\"blue\"></circle><circle cx=\"100.47157894736841\" cy=\"91.81669257471873\" r=\"3\" fill=\"blue\"></circle><circle cx=\"107.00631578947367\" cy=\"68.53108392411022\" r=\"3\" fill=\"blue\"></circle><circle cx=\"113.54105263157894\" cy=\"139.67999999999998\" r=\"3\" fill=\"red\"></circle><circle cx=\"120.0757894736842\" cy=\"23.059084592089675\" r=\"3\" fill=\"red\"></circle><circle cx=\"126.61052631578947\" cy=\"76.71109518084299\" r=\"3\" fill=\"blue\"></circle><circle cx=\"133.14526315789473\" cy=\"88.3274184162619\" r=\"3\" fill=\"blue\"></circle><circle cx=\"139.68\" cy=\"93.03391266237722\" r=\"3\" fill=\"blue\"></circle><polygon points=\"-200,-82.43249348695304 355.2,115.08917186317333 355.2,183.34848305063625 -200,-14.173182299490122\" style=\"fill: rgba(0, 0, 0, 0.3);\"></polygon><line x1=\"0\" y1=\"65.77082553082519\" x2=\"155.2\" y2=\"65.77082553082519\" style=\"stroke: rgba(0, 0, 0, 0.1); stroke-width: 279.513px;\"></line><line x1=\"-200\" y1=\"-48.30283789322158\" x2=\"355.2\" y2=\"149.2188274569048\" style=\"stroke: rgba(0, 0, 0, 0.7); stroke-width: 2px;\"></line></svg></div><div data-v-2e966a4f=\"\"><svg data-v-2e966a4f=\"\" height=\"155.2\" width=\"155.2\" xmlns=\"http://www.w3.org/2000/svg\" xmlns:xlink=\"http://www.w3.org/1999/xlink\" version=\"1.1\"><circle cx=\"15.52\" cy=\"15.519999999999982\" r=\"3\" fill=\"blue\"></circle><circle cx=\"22.05473684210526\" cy=\"20.570354698314958\" r=\"3\" fill=\"red\"></circle><circle cx=\"28.589473684210528\" cy=\"23.124666382317642\" r=\"3\" fill=\"blue\"></circle><circle cx=\"35.12421052631579\" cy=\"35.8104642423512\" r=\"3\" fill=\"blue\"></circle><circle cx=\"41.65894736842105\" cy=\"30.059917338016803\" r=\"3\" fill=\"blue\"></circle><circle cx=\"48.193684210526314\" cy=\"31.879482059463527\" r=\"3\" fill=\"blue\"></circle><circle cx=\"54.728421052631575\" cy=\"40.747868991422834\" r=\"3\" fill=\"red\"></circle><circle cx=\"61.263157894736835\" cy=\"42.77694457625333\" r=\"3\" fill=\"red\"></circle><circle cx=\"67.7978947368421\" cy=\"52.476091750263606\" r=\"3\" fill=\"red\"></circle><circle cx=\"74.33263157894736\" cy=\"92.2418569779811\" r=\"3\" fill=\"blue\"></circle><circle cx=\"80.86736842105263\" cy=\"50.853104239554554\" r=\"3\" fill=\"blue\"></circle><circle cx=\"87.40210526315789\" cy=\"55.38725102488762\" r=\"3\" fill=\"blue\"></circle><circle cx=\"93.93684210526315\" cy=\"19.05922153518887\" r=\"3\" fill=\"red\"></circle><circle cx=\"100.47157894736841\" cy=\"91.81669257471873\" r=\"3\" fill=\"blue\"></circle><circle cx=\"107.00631578947367\" cy=\"68.53108392411022\" r=\"3\" fill=\"blue\"></circle><circle cx=\"113.54105263157894\" cy=\"139.67999999999998\" r=\"3\" fill=\"red\"></circle><circle cx=\"120.0757894736842\" cy=\"23.059084592089675\" r=\"3\" fill=\"red\"></circle><circle cx=\"126.61052631578947\" cy=\"76.71109518084299\" r=\"3\" fill=\"blue\"></circle><circle cx=\"133.14526315789473\" cy=\"88.3274184162619\" r=\"3\" fill=\"blue\"></circle><circle cx=\"139.68\" cy=\"93.03391266237722\" r=\"3\" fill=\"red\"></circle><polygon points=\"-200,-142.03211016650616 355.2,204.58992145944643 355.2,258.92606839432375 -200,-87.69596323162887\" style=\"fill: rgba(0, 0, 0, 0.3);\"></polygon><line x1=\"0\" y1=\"65.77082553082519\" x2=\"155.2\" y2=\"65.77082553082519\" style=\"stroke: rgba(0, 0, 0, 0.1); stroke-width: 279.513px;\"></line><line x1=\"-200\" y1=\"-114.86403669906753\" x2=\"355.2\" y2=\"231.7579949268851\" style=\"stroke: rgba(0, 0, 0, 0.7); stroke-width: 2px;\"></line></svg></div><div data-v-2e966a4f=\"\"><svg data-v-2e966a4f=\"\" height=\"155.2\" width=\"155.2\" xmlns=\"http://www.w3.org/2000/svg\" xmlns:xlink=\"http://www.w3.org/1999/xlink\" version=\"1.1\"><circle cx=\"15.52\" cy=\"15.519999999999982\" r=\"3\" fill=\"red\"></circle><circle cx=\"22.05473684210526\" cy=\"20.570354698314958\" r=\"3\" fill=\"red\"></circle><circle cx=\"28.589473684210528\" cy=\"23.124666382317642\" r=\"3\" fill=\"red\"></circle><circle cx=\"35.12421052631579\" cy=\"35.8104642423512\" r=\"3\" fill=\"blue\"></circle><circle cx=\"41.65894736842105\" cy=\"30.059917338016803\" r=\"3\" fill=\"blue\"></circle><circle cx=\"48.193684210526314\" cy=\"31.879482059463527\" r=\"3\" fill=\"blue\"></circle><circle cx=\"54.728421052631575\" cy=\"40.747868991422834\" r=\"3\" fill=\"red\"></circle><circle cx=\"61.263157894736835\" cy=\"42.77694457625333\" r=\"3\" fill=\"red\"></circle><circle cx=\"67.7978947368421\" cy=\"52.476091750263606\" r=\"3\" fill=\"red\"></circle><circle cx=\"74.33263157894736\" cy=\"92.2418569779811\" r=\"3\" fill=\"red\"></circle><circle cx=\"80.86736842105263\" cy=\"50.853104239554554\" r=\"3\" fill=\"blue\"></circle><circle cx=\"87.40210526315789\" cy=\"55.38725102488762\" r=\"3\" fill=\"blue\"></circle><circle cx=\"93.93684210526315\" cy=\"19.05922153518887\" r=\"3\" fill=\"red\"></circle><circle cx=\"100.47157894736841\" cy=\"91.81669257471873\" r=\"3\" fill=\"red\"></circle><circle cx=\"107.00631578947367\" cy=\"68.53108392411022\" r=\"3\" fill=\"red\"></circle><circle cx=\"113.54105263157894\" cy=\"139.67999999999998\" r=\"3\" fill=\"red\"></circle><circle cx=\"120.0757894736842\" cy=\"23.059084592089675\" r=\"3\" fill=\"red\"></circle><circle cx=\"126.61052631578947\" cy=\"76.71109518084299\" r=\"3\" fill=\"red\"></circle><circle cx=\"133.14526315789473\" cy=\"88.3274184162619\" r=\"3\" fill=\"red\"></circle><circle cx=\"139.68\" cy=\"93.03391266237722\" r=\"3\" fill=\"blue\"></circle><polygon points=\"-200,-132.55033485621615 355.2,219.04750836955446 355.2,235.18805191065863 -200,-116.4097913151119\" style=\"fill: rgba(0, 0, 0, 0.3);\"></polygon><line x1=\"0\" y1=\"65.77082553082519\" x2=\"155.2\" y2=\"65.77082553082519\" style=\"stroke: rgba(0, 0, 0, 0.1); stroke-width: 279.513px;\"></line><line x1=\"-200\" y1=\"-124.480063085664\" x2=\"355.2\" y2=\"227.11778014010653\" style=\"stroke: rgba(0, 0, 0, 0.7); stroke-width: 2px;\"></line></svg></div><div data-v-2e966a4f=\"\"><svg data-v-2e966a4f=\"\" height=\"155.2\" width=\"155.2\" xmlns=\"http://www.w3.org/2000/svg\" xmlns:xlink=\"http://www.w3.org/1999/xlink\" version=\"1.1\"><circle cx=\"15.52\" cy=\"15.519999999999982\" r=\"3\" fill=\"blue\"></circle><circle cx=\"22.05473684210526\" cy=\"20.570354698314958\" r=\"3\" fill=\"blue\"></circle><circle cx=\"28.589473684210528\" cy=\"23.124666382317642\" r=\"3\" fill=\"blue\"></circle><circle cx=\"35.12421052631579\" cy=\"35.8104642423512\" r=\"3\" fill=\"red\"></circle><circle cx=\"41.65894736842105\" cy=\"30.059917338016803\" r=\"3\" fill=\"blue\"></circle><circle cx=\"48.193684210526314\" cy=\"31.879482059463527\" r=\"3\" fill=\"blue\"></circle><circle cx=\"54.728421052631575\" cy=\"40.747868991422834\" r=\"3\" fill=\"blue\"></circle><circle cx=\"61.263157894736835\" cy=\"42.77694457625333\" r=\"3\" fill=\"red\"></circle><circle cx=\"67.7978947368421\" cy=\"52.476091750263606\" r=\"3\" fill=\"blue\"></circle><circle cx=\"74.33263157894736\" cy=\"92.2418569779811\" r=\"3\" fill=\"blue\"></circle><circle cx=\"80.86736842105263\" cy=\"50.853104239554554\" r=\"3\" fill=\"blue\"></circle><circle cx=\"87.40210526315789\" cy=\"55.38725102488762\" r=\"3\" fill=\"blue\"></circle><circle cx=\"93.93684210526315\" cy=\"19.05922153518887\" r=\"3\" fill=\"red\"></circle><circle cx=\"100.47157894736841\" cy=\"91.81669257471873\" r=\"3\" fill=\"blue\"></circle><circle cx=\"107.00631578947367\" cy=\"68.53108392411022\" r=\"3\" fill=\"blue\"></circle><circle cx=\"113.54105263157894\" cy=\"139.67999999999998\" r=\"3\" fill=\"red\"></circle><circle cx=\"120.0757894736842\" cy=\"23.059084592089675\" r=\"3\" fill=\"red\"></circle><circle cx=\"126.61052631578947\" cy=\"76.71109518084299\" r=\"3\" fill=\"blue\"></circle><circle cx=\"133.14526315789473\" cy=\"88.3274184162619\" r=\"3\" fill=\"blue\"></circle><circle cx=\"139.68\" cy=\"93.03391266237722\" r=\"3\" fill=\"blue\"></circle><polygon points=\"-200,-125.54624052073362 355.2,201.81474354060174 355.2,245.02561168949035 -200,-82.33537237184498\" style=\"fill: rgba(0, 0, 0, 0.3);\"></polygon><line x1=\"0\" y1=\"65.77082553082519\" x2=\"155.2\" y2=\"65.77082553082519\" style=\"stroke: rgba(0, 0, 0, 0.1); stroke-width: 279.513px;\"></line><line x1=\"-200\" y1=\"-103.94080644628932\" x2=\"355.2\" y2=\"223.42017761504604\" style=\"stroke: rgba(0, 0, 0, 0.7); stroke-width: 2px;\"></line></svg></div><div data-v-2e966a4f=\"\"><svg data-v-2e966a4f=\"\" height=\"155.2\" width=\"155.2\" xmlns=\"http://www.w3.org/2000/svg\" xmlns:xlink=\"http://www.w3.org/1999/xlink\" version=\"1.1\"><circle cx=\"15.52\" cy=\"15.519999999999982\" r=\"3\" fill=\"red\"></circle><circle cx=\"22.05473684210526\" cy=\"20.570354698314958\" r=\"3\" fill=\"blue\"></circle><circle cx=\"28.589473684210528\" cy=\"23.124666382317642\" r=\"3\" fill=\"blue\"></circle><circle cx=\"35.12421052631579\" cy=\"35.8104642423512\" r=\"3\" fill=\"blue\"></circle><circle cx=\"41.65894736842105\" cy=\"30.059917338016803\" r=\"3\" fill=\"blue\"></circle><circle cx=\"48.193684210526314\" cy=\"31.879482059463527\" r=\"3\" fill=\"blue\"></circle><circle cx=\"54.728421052631575\" cy=\"40.747868991422834\" r=\"3\" fill=\"blue\"></circle><circle cx=\"61.263157894736835\" cy=\"42.77694457625333\" r=\"3\" fill=\"red\"></circle><circle cx=\"67.7978947368421\" cy=\"52.476091750263606\" r=\"3\" fill=\"blue\"></circle><circle cx=\"74.33263157894736\" cy=\"92.2418569779811\" r=\"3\" fill=\"red\"></circle><circle cx=\"80.86736842105263\" cy=\"50.853104239554554\" r=\"3\" fill=\"blue\"></circle><circle cx=\"87.40210526315789\" cy=\"55.38725102488762\" r=\"3\" fill=\"blue\"></circle><circle cx=\"93.93684210526315\" cy=\"19.05922153518887\" r=\"3\" fill=\"blue\"></circle><circle cx=\"100.47157894736841\" cy=\"91.81669257471873\" r=\"3\" fill=\"blue\"></circle><circle cx=\"107.00631578947367\" cy=\"68.53108392411022\" r=\"3\" fill=\"blue\"></circle><circle cx=\"113.54105263157894\" cy=\"139.67999999999998\" r=\"3\" fill=\"red\"></circle><circle cx=\"120.0757894736842\" cy=\"23.059084592089675\" r=\"3\" fill=\"red\"></circle><circle cx=\"126.61052631578947\" cy=\"76.71109518084299\" r=\"3\" fill=\"blue\"></circle><circle cx=\"133.14526315789473\" cy=\"88.3274184162619\" r=\"3\" fill=\"red\"></circle><circle cx=\"139.68\" cy=\"93.03391266237722\" r=\"3\" fill=\"blue\"></circle><polygon points=\"-200,-194.6488858614778 355.2,210.93559954113613 355.2,286.19158203265806 -200,-119.3929033699558\" style=\"fill: rgba(0, 0, 0, 0.3);\"></polygon><line x1=\"0\" y1=\"65.77082553082519\" x2=\"155.2\" y2=\"65.77082553082519\" style=\"stroke: rgba(0, 0, 0, 0.1); stroke-width: 279.513px;\"></line><line x1=\"-200\" y1=\"-157.02089461571674\" x2=\"355.2\" y2=\"248.56359078689712\" style=\"stroke: rgba(0, 0, 0, 0.7); stroke-width: 2px;\"></line></svg></div><div data-v-2e966a4f=\"\"><svg data-v-2e966a4f=\"\" height=\"155.2\" width=\"155.2\" xmlns=\"http://www.w3.org/2000/svg\" xmlns:xlink=\"http://www.w3.org/1999/xlink\" version=\"1.1\"><circle cx=\"15.52\" cy=\"15.519999999999982\" r=\"3\" fill=\"blue\"></circle><circle cx=\"22.05473684210526\" cy=\"20.570354698314958\" r=\"3\" fill=\"blue\"></circle><circle cx=\"28.589473684210528\" cy=\"23.124666382317642\" r=\"3\" fill=\"blue\"></circle><circle cx=\"35.12421052631579\" cy=\"35.8104642423512\" r=\"3\" fill=\"blue\"></circle><circle cx=\"41.65894736842105\" cy=\"30.059917338016803\" r=\"3\" fill=\"blue\"></circle><circle cx=\"48.193684210526314\" cy=\"31.879482059463527\" r=\"3\" fill=\"blue\"></circle><circle cx=\"54.728421052631575\" cy=\"40.747868991422834\" r=\"3\" fill=\"blue\"></circle><circle cx=\"61.263157894736835\" cy=\"42.77694457625333\" r=\"3\" fill=\"red\"></circle><circle cx=\"67.7978947368421\" cy=\"52.476091750263606\" r=\"3\" fill=\"blue\"></circle><circle cx=\"74.33263157894736\" cy=\"92.2418569779811\" r=\"3\" fill=\"blue\"></circle><circle cx=\"80.86736842105263\" cy=\"50.853104239554554\" r=\"3\" fill=\"blue\"></circle><circle cx=\"87.40210526315789\" cy=\"55.38725102488762\" r=\"3\" fill=\"blue\"></circle><circle cx=\"93.93684210526315\" cy=\"19.05922153518887\" r=\"3\" fill=\"blue\"></circle><circle cx=\"100.47157894736841\" cy=\"91.81669257471873\" r=\"3\" fill=\"blue\"></circle><circle cx=\"107.00631578947367\" cy=\"68.53108392411022\" r=\"3\" fill=\"blue\"></circle><circle cx=\"113.54105263157894\" cy=\"139.67999999999998\" r=\"3\" fill=\"blue\"></circle><circle cx=\"120.0757894736842\" cy=\"23.059084592089675\" r=\"3\" fill=\"blue\"></circle><circle cx=\"126.61052631578947\" cy=\"76.71109518084299\" r=\"3\" fill=\"blue\"></circle><circle cx=\"133.14526315789473\" cy=\"88.3274184162619\" r=\"3\" fill=\"blue\"></circle><circle cx=\"139.68\" cy=\"93.03391266237722\" r=\"3\" fill=\"blue\"></circle><polygon points=\"-200,-238.45018278443789 355.2,249.71547160951013 355.2,356.92144046771335 -200,-131.24421392623466\" style=\"fill: rgba(0, 0, 0, 0.3);\"></polygon><line x1=\"0\" y1=\"65.77082553082519\" x2=\"155.2\" y2=\"65.77082553082519\" style=\"stroke: rgba(0, 0, 0, 0.1); stroke-width: 279.513px;\"></line><line x1=\"-200\" y1=\"-184.8471983553363\" x2=\"355.2\" y2=\"303.31845603861177\" style=\"stroke: rgba(0, 0, 0, 0.7); stroke-width: 2px;\"></line></svg></div><div data-v-2e966a4f=\"\"><svg data-v-2e966a4f=\"\" height=\"155.2\" width=\"155.2\" xmlns=\"http://www.w3.org/2000/svg\" xmlns:xlink=\"http://www.w3.org/1999/xlink\" version=\"1.1\"><circle cx=\"15.52\" cy=\"15.519999999999982\" r=\"3\" fill=\"blue\"></circle><circle cx=\"22.05473684210526\" cy=\"20.570354698314958\" r=\"3\" fill=\"blue\"></circle><circle cx=\"28.589473684210528\" cy=\"23.124666382317642\" r=\"3\" fill=\"blue\"></circle><circle cx=\"35.12421052631579\" cy=\"35.8104642423512\" r=\"3\" fill=\"blue\"></circle><circle cx=\"41.65894736842105\" cy=\"30.059917338016803\" r=\"3\" fill=\"blue\"></circle><circle cx=\"48.193684210526314\" cy=\"31.879482059463527\" r=\"3\" fill=\"blue\"></circle><circle cx=\"54.728421052631575\" cy=\"40.747868991422834\" r=\"3\" fill=\"blue\"></circle><circle cx=\"61.263157894736835\" cy=\"42.77694457625333\" r=\"3\" fill=\"red\"></circle><circle cx=\"67.7978947368421\" cy=\"52.476091750263606\" r=\"3\" fill=\"blue\"></circle><circle cx=\"74.33263157894736\" cy=\"92.2418569779811\" r=\"3\" fill=\"blue\"></circle><circle cx=\"80.86736842105263\" cy=\"50.853104239554554\" r=\"3\" fill=\"blue\"></circle><circle cx=\"87.40210526315789\" cy=\"55.38725102488762\" r=\"3\" fill=\"blue\"></circle><circle cx=\"93.93684210526315\" cy=\"19.05922153518887\" r=\"3\" fill=\"blue\"></circle><circle cx=\"100.47157894736841\" cy=\"91.81669257471873\" r=\"3\" fill=\"blue\"></circle><circle cx=\"107.00631578947367\" cy=\"68.53108392411022\" r=\"3\" fill=\"blue\"></circle><circle cx=\"113.54105263157894\" cy=\"139.67999999999998\" r=\"3\" fill=\"red\"></circle><circle cx=\"120.0757894736842\" cy=\"23.059084592089675\" r=\"3\" fill=\"blue\"></circle><circle cx=\"126.61052631578947\" cy=\"76.71109518084299\" r=\"3\" fill=\"blue\"></circle><circle cx=\"133.14526315789473\" cy=\"88.3274184162619\" r=\"3\" fill=\"blue\"></circle><circle cx=\"139.68\" cy=\"93.03391266237722\" r=\"3\" fill=\"blue\"></circle><polygon points=\"-200,-140.03210256705486 355.2,183.61332226103698 355.2,267.8137976645997 -200,-55.83162716349213\" style=\"fill: rgba(0, 0, 0, 0.3);\"></polygon><line x1=\"0\" y1=\"65.77082553082519\" x2=\"155.2\" y2=\"65.77082553082519\" style=\"stroke: rgba(0, 0, 0, 0.1); stroke-width: 279.513px;\"></line><line x1=\"-200\" y1=\"-97.93186486527344\" x2=\"355.2\" y2=\"225.71355996281835\" style=\"stroke: rgba(0, 0, 0, 0.7); stroke-width: 2px;\"></line></svg></div></div></div><style>body, html { margin-left: 0px; margin-right: 0px; }\n",
       "h1[data-v-2e966a4f] { font-family: Avenir, Helvetica, Arial, sans-serif; text-align: center; }\n",
       "#traces[data-v-2e966a4f] { display: flex; -moz-box-orient: horizontal; -moz-box-direction: normal; flex-flow: row wrap; }\n",
       "#app { font-family: Avenir, Helvetica, Arial, sans-serif; -moz-osx-font-smoothing: grayscale; color: rgb(44, 62, 80); }</style>"
      ]
     },
     "metadata": {},
     "output_type": "display_data"
    },
    {
     "name": "stdout",
     "output_type": "stream",
     "text": [
      "Average log probability: -66.19714511633838\n"
     ]
    }
   ],
   "source": [
    "viz = Viz(server, joinpath(@__DIR__, \"regression-viz/dist\"), [xs])\n",
    "log_probs = Vector{Float64}(undef, 10)\n",
    "for i=1:10\n",
    "    (tr, _) = Gen.importance_resampling(model, (xs,), observations, 2000)\n",
    "    putTrace!(viz, \"t$(i)\", serialize_trace(tr))\n",
    "    log_probs[i] = Gen.get_score(tr)\n",
    "end\n",
    "displayInNotebook(viz)\n",
    "println(\"Average log probability: $(logmeanexp(log_probs))\")"
   ]
  },
  {
   "cell_type": "markdown",
   "metadata": {},
   "source": [
    "We see here that importance sampling hasn't completely failed: it generally finds a reasonable position for the line. But the details are off: there is little logic to the outlier classification, and the inferred noise around the line is too wide. The problem is that there are just too many variables to get right, and so sampling everything in one go is highly unlikely to produce a perfect hit.\n",
    "\n",
    "In the remainder of this notebook, we'll explore techniques for finding the right solution _iteratively_, beginning with an initial guess and making many small changes, until we achieve a reasonable posterior sample."
   ]
  },
  {
   "cell_type": "markdown",
   "metadata": {},
   "source": [
    "## 4. MCMC Inference Part 1: Block Resimulation  <a name=\"mcmc-1\"></a>"
   ]
  },
  {
   "cell_type": "markdown",
   "metadata": {},
   "source": [
    "### What is MCMC?"
   ]
  },
  {
   "cell_type": "markdown",
   "metadata": {},
   "source": [
    "_Markov Chain Monte Carlo_ (\"MCMC\") methods are a powerful family of algorithms for iteratively producing approximate samples from a distribution (when applied to Bayesian inference problems, the posterior distribution of unknown (hidden) model variables given data).\n",
    "\n",
    "There is a rich theory behind MCMC methods, but we focus on applying MCMC in Gen and introducing theoretical ideas only when necessary for understanding. As we will see, Gen provides abstractions that hide and automate much of the math necessary for implementing MCMC algorithms correctly.\n",
    "\n",
    "The general shape of an MCMC algorithm is as follows. We begin by sampling an intial setting of all unobserved variables; in Gen, we produce an initial _trace_ consistent with (but not necessarily _probable_ given) our observations. Then, in a long-running loop, we make small, stochastic changes to the trace; in order for the algorithm to be asymptotically correct, these stochastic updates must satisfy certain probabilistic properties. \n",
    "\n",
    "One common way of ensuring that the updates do satisfy those properties is to compute a _Metropolis-Hastings acceptance ratio_. Essentially, after proposing a change to a trace, we add an \"accept or reject\" step that stochastically decides whether to commit the update or to revert it. This is an over-simplification, but generally speaking, this step ensures we are more likely to accept changes that make our trace fit the observed data better, and to reject ones that make our current trace worse. The algorithm also tries not to go down dead ends: it is more likely to take an exploratory step into a low-probability region if it knows it can easily get back to where it came from.\n",
    "\n",
    "Gen's `metropolis_hastings` function _automatically_ adds this \"accept/reject\" check (including the correct computation of the probability of acceptance or rejection), so that as inference programmers, we need only think about what sorts of updates might be useful to propose. Starting in this section, we'll look at several design patterns for MCMC updates, and how to apply them in Gen."
   ]
  },
  {
   "cell_type": "markdown",
   "metadata": {},
   "source": [
    "### Block Resimulation"
   ]
  },
  {
   "cell_type": "markdown",
   "metadata": {},
   "source": [
    "One of the simplest strategies we can use is called Resimulation MH, and it works as follows.\n",
    "\n",
    "We begin, as in most iterative inference algorithms, by sampling an initial trace from our model, fixing the observed choices to their observed values.\n",
    "\n",
    "```julia\n",
    "# Gen's `initialize` function accepts a model, a tuple of arguments to the model,\n",
    "# and an Assignment representing observations (or constraints to satisfy). It returns\n",
    "# a complete trace consistent with the observations, and an importance weight.\n",
    "(tr, _) = initialize(model, (xs,), observations)\n",
    "```"
   ]
  },
  {
   "cell_type": "markdown",
   "metadata": {},
   "source": [
    "Then, in each iteration of our program, we propose changes to all our model's variables in \"blocks,\" by erasing a set of variables from our current trace and _resimulating_ them from the model. After resimulating each block of choices, we perform an accept/reject step, deciding whether the proposed changes are worth making. \n",
    "\n",
    "```julia\n",
    "# Pseudocode\n",
    "for iter=1:500\n",
    "    tr = maybe_update_block_1(tr)\n",
    "    tr = maybe_update_block_2(tr)\n",
    "    ...\n",
    "    tr = maybe_update_block_n(tr)\n",
    "end\n",
    "```\n",
    "\n",
    "The main design choice in designing a Block Resimulation MH algorithm is how to block the choices together for resimulation. At one extreme, we could put each random choice the model makes in its own block. At the other, we could put all variables into a single block (a strategy sometimes called \"independent\" MH, and which bears a strong similarity to importance resampling, as it involves repeatedly generating completely new traces and deciding whether to keep them or not). Usually, the right thing to do is somewhere in between.\n",
    "\n",
    "For the regression problem, here is one possible blocking of choices:\n",
    "\n",
    "**Block 1: `slope`, `intercept`, and `noise`.** These parameters determine the linear relationship; resimulating them is like picking a new line. We know from our importance sampling experiment above that before too long, we're bound to sample something close to the right line.\n",
    "\n",
    "**Blocks 2 through N+1: Each `is_outlier`, in its own block.** One problem we saw with importance sampling in this problem was that it tried to sample _every_ outlier classification at once, when in reality the chances of a single sample that correctly classifies all the points are very low. Here, we can choose to resimulate each `is_outlier` choice separately, and for each one, decide whether to use the resimulated value or not.\n",
    "\n",
    "**Block N+2: `prob_outlier`.** Finally, we can propose a new `prob_outlier` value; in general, we can expect to accept the proposal when it is line with the current hypothesized proportion of `is_outlier` choices that are set to `true`.\n",
    "\n",
    "Resimulating a block of variables is the simplest form of update that Gen's `metropolis_hastings` operator (or `mh` for short) supports. When supplied with a _current trace_ and a _selection_ of trace addresses to resimulate, `mh` performs the resimulation and the appropriate accept/reject check, then returns a possibly updated trace. A selection is created using the `select` method. So a single update of the scheme we proposed above would look like this:"
   ]
  },
  {
   "cell_type": "code",
   "execution_count": 13,
   "metadata": {},
   "outputs": [],
   "source": [
    "# Perform a single block resimulation update of a trace.\n",
    "function block_resimulation_update(tr)\n",
    "    # Block 1: Update the line's parameters\n",
    "    line_params = select(:noise, :slope, :intercept)\n",
    "    (tr, _) = mh(tr, line_params)\n",
    "    \n",
    "    # Blocks 2-N+1: Update the outlier classifications\n",
    "    (xs,) = get_args(tr)\n",
    "    n = length(xs)\n",
    "    for i=1:n\n",
    "        (tr, _) = mh(tr, select(:data => i => :is_outlier))\n",
    "    end\n",
    "    \n",
    "    # Block N+2: Update the prob_outlier parameter\n",
    "    (tr, _) = mh(tr, select(:prob_outlier))\n",
    "    \n",
    "    # Return the updated trace\n",
    "    tr\n",
    "end;"
   ]
  },
  {
   "cell_type": "markdown",
   "metadata": {},
   "source": [
    "All that's left is to (a) obtain an initial trace, and then (b) run that update in a loop for as long as we'd like:"
   ]
  },
  {
   "cell_type": "code",
   "execution_count": 14,
   "metadata": {},
   "outputs": [],
   "source": [
    "function block_resimulation_inference(xs, ys)\n",
    "    observations = make_constraints(ys)\n",
    "    (tr, _) = generate(model, (xs,), observations)\n",
    "    for iter=1:500\n",
    "        tr = block_resimulation_update(tr)\n",
    "    end\n",
    "    tr\n",
    "end;"
   ]
  },
  {
   "cell_type": "markdown",
   "metadata": {},
   "source": [
    "Let's test it out:"
   ]
  },
  {
   "cell_type": "code",
   "execution_count": 15,
   "metadata": {},
   "outputs": [
    {
     "name": "stdout",
     "output_type": "stream",
     "text": [
      "  1.702259 seconds (7.84 M allocations: 602.260 MiB, 9.86% gc time)\n",
      "  1.028466 seconds (7.34 M allocations: 576.707 MiB, 11.22% gc time)\n",
      "  1.091102 seconds (7.34 M allocations: 576.707 MiB, 11.56% gc time)\n",
      "  1.080586 seconds (7.34 M allocations: 576.707 MiB, 10.85% gc time)\n",
      "  1.081355 seconds (7.34 M allocations: 576.707 MiB, 11.18% gc time)\n",
      "  1.137710 seconds (7.34 M allocations: 576.707 MiB, 11.14% gc time)\n",
      "  1.374574 seconds (7.34 M allocations: 576.707 MiB, 11.26% gc time)\n",
      "  1.129194 seconds (7.34 M allocations: 576.707 MiB, 10.95% gc time)\n",
      "  1.151976 seconds (7.34 M allocations: 576.707 MiB, 10.25% gc time)\n",
      "  1.088874 seconds (7.34 M allocations: 576.707 MiB, 10.64% gc time)\n",
      "Log probability: -50.009141114945265\n"
     ]
    }
   ],
   "source": [
    "scores = Vector{Float64}(undef, 10)\n",
    "for i=1:10\n",
    "    @time tr = block_resimulation_inference(xs, ys)\n",
    "    scores[i] = get_score(tr)\n",
    "end\n",
    "println(\"Log probability: \", logmeanexp(scores))"
   ]
  },
  {
   "cell_type": "markdown",
   "metadata": {},
   "source": [
    "We note that this is significantly better than importance sampling, even if we run importance sampling for about the same amount of (wall-clock) time per sample:"
   ]
  },
  {
   "cell_type": "code",
   "execution_count": 16,
   "metadata": {},
   "outputs": [
    {
     "name": "stdout",
     "output_type": "stream",
     "text": [
      "  1.301648 seconds (9.06 M allocations: 818.924 MiB, 13.59% gc time)\n",
      "  1.264469 seconds (9.06 M allocations: 818.924 MiB, 13.28% gc time)\n",
      "  1.464305 seconds (9.06 M allocations: 818.924 MiB, 13.18% gc time)\n",
      "  1.239152 seconds (9.06 M allocations: 818.924 MiB, 13.60% gc time)\n",
      "  1.343642 seconds (9.06 M allocations: 818.924 MiB, 13.60% gc time)\n",
      "  1.466010 seconds (9.06 M allocations: 818.924 MiB, 13.09% gc time)\n",
      "  1.376397 seconds (9.06 M allocations: 818.924 MiB, 14.22% gc time)\n",
      "  1.209197 seconds (9.06 M allocations: 818.924 MiB, 13.69% gc time)\n",
      "  1.215636 seconds (9.06 M allocations: 818.924 MiB, 13.41% gc time)\n",
      "  1.212686 seconds (9.06 M allocations: 818.924 MiB, 13.32% gc time)\n",
      "Log probability: -61.96784993445832\n"
     ]
    }
   ],
   "source": [
    "scores = Vector{Float64}(undef, 10)\n",
    "for i=1:10\n",
    "    @time (tr, _) = importance_resampling(model, (xs,), observations, 17000)\n",
    "    scores[i] = get_score(tr)\n",
    "end\n",
    "println(\"Log probability: \", logmeanexp(scores))"
   ]
  },
  {
   "cell_type": "markdown",
   "metadata": {},
   "source": [
    "It's one thing to see a log probability increase; it's better to understand what the inference algorithm is actually doing, and to see _why_ it's doing better.\n",
    "\n",
    "A great tool for debugging and improving MCMC algorithms is visualization. We can use GenViz's `displayInNotebook(viz) do ... end` syntax to produce an animated visualization:"
   ]
  },
  {
   "cell_type": "code",
   "execution_count": 17,
   "metadata": {},
   "outputs": [
    {
     "data": {
      "text/html": [
       "<div data-v-2e966a4f=\"\"><h1 data-v-2e966a4f=\"\">Traces</h1><div data-v-2e966a4f=\"\" id=\"traces\"><div data-v-2e966a4f=\"\"><svg data-v-2e966a4f=\"\" height=\"500\" width=\"500\" xmlns=\"http://www.w3.org/2000/svg\" xmlns:xlink=\"http://www.w3.org/1999/xlink\" version=\"1.1\"><circle cx=\"50\" cy=\"50\" r=\"3\" fill=\"blue\"></circle><circle cx=\"71.05263157894737\" cy=\"66.27047261055083\" r=\"3\" fill=\"blue\"></circle><circle cx=\"92.10526315789474\" cy=\"74.49956953066254\" r=\"3\" fill=\"blue\"></circle><circle cx=\"113.15789473684211\" cy=\"115.36876366736863\" r=\"3\" fill=\"blue\"></circle><circle cx=\"134.21052631578948\" cy=\"96.84251719721914\" r=\"3\" fill=\"blue\"></circle><circle cx=\"155.26315789473688\" cy=\"102.704516944148\" r=\"3\" fill=\"blue\"></circle><circle cx=\"176.31578947368422\" cy=\"131.27535113216123\" r=\"3\" fill=\"blue\"></circle><circle cx=\"197.36842105263156\" cy=\"137.81232144411513\" r=\"3\" fill=\"blue\"></circle><circle cx=\"218.42105263157893\" cy=\"169.059573937705\" r=\"3\" fill=\"blue\"></circle><circle cx=\"239.4736842105263\" cy=\"297.1709309857639\" r=\"3\" fill=\"red\"></circle><circle cx=\"260.52631578947376\" cy=\"163.83087706042068\" r=\"3\" fill=\"blue\"></circle><circle cx=\"281.57894736842104\" cy=\"178.43830871419988\" r=\"3\" fill=\"blue\"></circle><circle cx=\"302.63157894736844\" cy=\"61.4021312345003\" r=\"3\" fill=\"red\"></circle><circle cx=\"323.6842105263158\" cy=\"295.8012003051506\" r=\"3\" fill=\"red\"></circle><circle cx=\"344.7368421052631\" cy=\"220.78313119880875\" r=\"3\" fill=\"blue\"></circle><circle cx=\"365.7894736842105\" cy=\"450\" r=\"3\" fill=\"red\"></circle><circle cx=\"386.84210526315786\" cy=\"74.28828798997966\" r=\"3\" fill=\"red\"></circle><circle cx=\"407.89473684210526\" cy=\"247.13626024756127\" r=\"3\" fill=\"blue\"></circle><circle cx=\"428.9473684210526\" cy=\"284.5599820111531\" r=\"3\" fill=\"blue\"></circle><circle cx=\"450\" cy=\"299.7226567731226\" r=\"3\" fill=\"red\"></circle><polygon points=\"-200,-102.82115558715964 700,391.76639123779626 700,426.2101281267974 -200,-68.37741869815852\" style=\"fill: rgba(0, 0, 0, 0.3);\"></polygon><line x1=\"0\" y1=\"211.89054616889567\" x2=\"500\" y2=\"211.89054616889567\" style=\"stroke: rgba(0, 0, 0, 0.1); stroke-width: 900.493px;\"></line><line x1=\"-200\" y1=\"-85.59928714265902\" x2=\"700\" y2=\"408.9882596822968\" style=\"stroke: rgba(0, 0, 0, 0.7); stroke-width: 2px;\"></line></svg></div></div></div><style>body, html { margin-left: 0px; margin-right: 0px; }\n",
       "h1[data-v-2e966a4f] { font-family: Avenir, Helvetica, Arial, sans-serif; text-align: center; }\n",
       "#traces[data-v-2e966a4f] { display: flex; -moz-box-orient: horizontal; -moz-box-direction: normal; flex-flow: row wrap; }\n",
       "#app { font-family: Avenir, Helvetica, Arial, sans-serif; -moz-osx-font-smoothing: grayscale; color: rgb(44, 62, 80); }</style>"
      ]
     },
     "metadata": {},
     "output_type": "display_data"
    }
   ],
   "source": [
    "viz = Viz(server, joinpath(@__DIR__, \"regression-viz/dist\"), [xs, ys])\n",
    "Random.seed!(2)\n",
    "displayInNotebook(viz) do\n",
    "    (tr, _) = generate(model, (xs,), observations)\n",
    "    putTrace!(viz, \"t\", serialize_trace(tr))\n",
    "    for iter = 1:500\n",
    "        tr = block_resimulation_update(tr)\n",
    "        \n",
    "        # Visualize and sleep for clearer animation\n",
    "        putTrace!(viz, \"t\", serialize_trace(tr))\n",
    "        sleep(0.01)\n",
    "    end\n",
    "end"
   ]
  },
  {
   "cell_type": "markdown",
   "metadata": {},
   "source": [
    "## 5. MCMC Inference Part 2: Gaussian Drift MH  <a name=\"mcmc-2\"></a>"
   ]
  },
  {
   "cell_type": "markdown",
   "metadata": {},
   "source": [
    "So far, we've seen one form of incremental trace update:\n",
    "\n",
    "```julia\n",
    "(tr, did_accept) = mh(tr, select(:address1, :address2, ...))\n",
    "```\n",
    "\n",
    "This update is incremental in that it only proposes changes to part of a trace (the selected addresses). But when computing _what_ changes to propose, it ignores the current state completely and resimulates all-new values from the model.\n",
    "\n",
    "That wholesale resimulation of values is often not the best way to search for improvements. To that end, Gen also offers a more general flavor of MH:\n",
    "\n",
    "```julia\n",
    "(tr, did_accept) = mh(tr, custom_proposal, custom_proposal_args)\n",
    "```\n",
    "\n",
    "A \"custom proposal\" is just what it sounds like: whereas before, we were using the _default resimulation proposal_ to come up with new values for the selected addresses, we can now pass in a generative function that samples proposed values however it wants.\n",
    "\n",
    "For example, here is a custom proposal that takes in a current trace, and proposes a new slope and intercept by randomly perturbing the existing values:"
   ]
  },
  {
   "cell_type": "code",
   "execution_count": 18,
   "metadata": {},
   "outputs": [],
   "source": [
    "@gen function line_proposal(trace)\n",
    "    choices = get_choices(trace)\n",
    "    slope = @trace(normal(choices[:slope], 0.5), :slope)\n",
    "    intercept = @trace(normal(choices[:intercept], 0.5), :intercept)\n",
    "end;"
   ]
  },
  {
   "cell_type": "markdown",
   "metadata": {},
   "source": [
    "This is often called a \"Gaussian drift\" proposal, because it essentially amounts to proposing steps of a random walk. (What makes it different from a random walk is that we will still use an MH accept/reject step to make sure we don't wander into areas of very low probability.)"
   ]
  },
  {
   "cell_type": "markdown",
   "metadata": {},
   "source": [
    "To use the proposal, we write:\n",
    "\n",
    "```julia\n",
    "(tr, did_accept) = mh(tr, line_proposal, ())\n",
    "```\n",
    "\n",
    "Two things to note:\n",
    "1. We no longer need to pass a selection of addresses. Instead, Gen assumes that whichever addresses are sampled by the proposal (in this case, `:slope` and `:intercept`) are being proposed to.\n",
    "2. The argument list to the proposal is an empty tuple, `()`. The `line_proposal` generative function does expect an argument, the previous trace, but this is supplied automatically to all MH custom proposals."
   ]
  },
  {
   "cell_type": "markdown",
   "metadata": {},
   "source": [
    "Let's swap it into our update:"
   ]
  },
  {
   "cell_type": "code",
   "execution_count": 19,
   "metadata": {},
   "outputs": [],
   "source": [
    "function gaussian_drift_update(tr)\n",
    "    # Gaussian drift on line params\n",
    "    (tr, _) = mh(tr, line_proposal, ())\n",
    "    \n",
    "    # Block resimulation: Update the outlier classifications\n",
    "    (xs,) = get_args(tr)\n",
    "    n = length(xs)\n",
    "    for i=1:n\n",
    "        (tr, _) = mh(tr, select(:data => i => :is_outlier))\n",
    "    end\n",
    "    \n",
    "    # Block resimulation: Update the prob_outlier parameter\n",
    "    (tr, w) = mh(tr, select(:prob_outlier))\n",
    "    (tr, w) = mh(tr, select(:noise))\n",
    "    tr\n",
    "end;"
   ]
  },
  {
   "cell_type": "markdown",
   "metadata": {},
   "source": [
    "If we compare the Gaussian Drift proposal visually with our old algorithm, we can see how the new behavior helps:"
   ]
  },
  {
   "cell_type": "code",
   "execution_count": 20,
   "metadata": {},
   "outputs": [
    {
     "data": {
      "text/html": [
       "<div data-v-2e966a4f=\"\"><h1 data-v-2e966a4f=\"\">Traces</h1><div data-v-2e966a4f=\"\" id=\"traces\"><div data-v-2e966a4f=\"\"><svg data-v-2e966a4f=\"\" height=\"388\" width=\"388\" xmlns=\"http://www.w3.org/2000/svg\" xmlns:xlink=\"http://www.w3.org/1999/xlink\" version=\"1.1\"><circle cx=\"38.800000000000004\" cy=\"38.80000000000001\" r=\"3\" fill=\"blue\"></circle><circle cx=\"55.136842105263156\" cy=\"51.425886745787466\" r=\"3\" fill=\"blue\"></circle><circle cx=\"71.47368421052633\" cy=\"57.811665955794126\" r=\"3\" fill=\"blue\"></circle><circle cx=\"87.81052631578947\" cy=\"89.52616060587809\" r=\"3\" fill=\"blue\"></circle><circle cx=\"104.14736842105262\" cy=\"75.14979334504204\" r=\"3\" fill=\"blue\"></circle><circle cx=\"120.48421052631579\" cy=\"79.69870514865886\" r=\"3\" fill=\"blue\"></circle><circle cx=\"136.82105263157894\" cy=\"101.86967247855713\" r=\"3\" fill=\"blue\"></circle><circle cx=\"153.15789473684208\" cy=\"106.94236144063336\" r=\"3\" fill=\"blue\"></circle><circle cx=\"169.49473684210525\" cy=\"131.19022937565907\" r=\"3\" fill=\"blue\"></circle><circle cx=\"185.83157894736843\" cy=\"230.6046424449528\" r=\"3\" fill=\"red\"></circle><circle cx=\"202.1684210526316\" cy=\"127.13276059888642\" r=\"3\" fill=\"blue\"></circle><circle cx=\"218.50526315789475\" cy=\"138.46812756221908\" r=\"3\" fill=\"blue\"></circle><circle cx=\"234.8421052631579\" cy=\"47.64805383797221\" r=\"3\" fill=\"red\"></circle><circle cx=\"251.17894736842106\" cy=\"229.54173143679685\" r=\"3\" fill=\"red\"></circle><circle cx=\"267.51578947368415\" cy=\"171.3277098102756\" r=\"3\" fill=\"blue\"></circle><circle cx=\"283.85263157894735\" cy=\"349.2\" r=\"3\" fill=\"red\"></circle><circle cx=\"300.1894736842105\" cy=\"57.647711480224245\" r=\"3\" fill=\"red\"></circle><circle cx=\"316.5263157894737\" cy=\"191.77773795210754\" r=\"3\" fill=\"blue\"></circle><circle cx=\"332.86315789473684\" cy=\"220.8185460406548\" r=\"3\" fill=\"blue\"></circle><circle cx=\"349.2\" cy=\"232.58478165594312\" r=\"3\" fill=\"blue\"></circle><polygon points=\"-200,-112.52221249818564 588,344.0068850802601 588,376.3519598245027 -200,-80.17713775394299\" style=\"fill: rgba(0, 0, 0, 0.3);\"></polygon><line x1=\"0\" y1=\"164.42706382706305\" x2=\"388\" y2=\"164.42706382706305\" style=\"stroke: rgba(0, 0, 0, 0.1); stroke-width: 698.782px;\"></line><line x1=\"-200\" y1=\"-96.34967512606437\" x2=\"588\" y2=\"360.1794224523814\" style=\"stroke: rgba(0, 0, 0, 0.7); stroke-width: 2px;\"></line></svg></div><div data-v-2e966a4f=\"\"><svg data-v-2e966a4f=\"\" height=\"388\" width=\"388\" xmlns=\"http://www.w3.org/2000/svg\" xmlns:xlink=\"http://www.w3.org/1999/xlink\" version=\"1.1\"><circle cx=\"38.800000000000004\" cy=\"38.80000000000001\" r=\"3\" fill=\"blue\"></circle><circle cx=\"55.136842105263156\" cy=\"51.425886745787466\" r=\"3\" fill=\"blue\"></circle><circle cx=\"71.47368421052633\" cy=\"57.811665955794126\" r=\"3\" fill=\"blue\"></circle><circle cx=\"87.81052631578947\" cy=\"89.52616060587809\" r=\"3\" fill=\"blue\"></circle><circle cx=\"104.14736842105262\" cy=\"75.14979334504204\" r=\"3\" fill=\"blue\"></circle><circle cx=\"120.48421052631579\" cy=\"79.69870514865886\" r=\"3\" fill=\"blue\"></circle><circle cx=\"136.82105263157894\" cy=\"101.86967247855713\" r=\"3\" fill=\"blue\"></circle><circle cx=\"153.15789473684208\" cy=\"106.94236144063336\" r=\"3\" fill=\"blue\"></circle><circle cx=\"169.49473684210525\" cy=\"131.19022937565907\" r=\"3\" fill=\"blue\"></circle><circle cx=\"185.83157894736843\" cy=\"230.6046424449528\" r=\"3\" fill=\"red\"></circle><circle cx=\"202.1684210526316\" cy=\"127.13276059888642\" r=\"3\" fill=\"blue\"></circle><circle cx=\"218.50526315789475\" cy=\"138.46812756221908\" r=\"3\" fill=\"blue\"></circle><circle cx=\"234.8421052631579\" cy=\"47.64805383797221\" r=\"3\" fill=\"red\"></circle><circle cx=\"251.17894736842106\" cy=\"229.54173143679685\" r=\"3\" fill=\"red\"></circle><circle cx=\"267.51578947368415\" cy=\"171.3277098102756\" r=\"3\" fill=\"blue\"></circle><circle cx=\"283.85263157894735\" cy=\"349.2\" r=\"3\" fill=\"red\"></circle><circle cx=\"300.1894736842105\" cy=\"57.647711480224245\" r=\"3\" fill=\"red\"></circle><circle cx=\"316.5263157894737\" cy=\"191.77773795210754\" r=\"3\" fill=\"blue\"></circle><circle cx=\"332.86315789473684\" cy=\"220.8185460406548\" r=\"3\" fill=\"blue\"></circle><circle cx=\"349.2\" cy=\"232.58478165594312\" r=\"3\" fill=\"blue\"></circle><polygon points=\"-200,-109.9873704678813 588,309.9262677428552 588,365.1918234995709 -200,-54.721814711165734\" style=\"fill: rgba(0, 0, 0, 0.3);\"></polygon><line x1=\"0\" y1=\"164.42706382706305\" x2=\"388\" y2=\"164.42706382706305\" style=\"stroke: rgba(0, 0, 0, 0.1); stroke-width: 698.782px;\"></line><line x1=\"-200\" y1=\"-82.35459258952352\" x2=\"588\" y2=\"337.55904562121304\" style=\"stroke: rgba(0, 0, 0, 0.7); stroke-width: 2px;\"></line></svg></div></div></div><style>body, html { margin-left: 0px; margin-right: 0px; }\n",
       "h1[data-v-2e966a4f] { font-family: Avenir, Helvetica, Arial, sans-serif; text-align: center; }\n",
       "#traces[data-v-2e966a4f] { display: flex; -moz-box-orient: horizontal; -moz-box-direction: normal; flex-flow: row wrap; }\n",
       "#app { font-family: Avenir, Helvetica, Arial, sans-serif; -moz-osx-font-smoothing: grayscale; color: rgb(44, 62, 80); }</style>"
      ]
     },
     "metadata": {},
     "output_type": "display_data"
    }
   ],
   "source": [
    "viz = Viz(server, joinpath(@__DIR__, \"regression-viz/dist\"), [xs, ys])\n",
    "\n",
    "# Set random seed for a reproducible animation\n",
    "Random.seed!(35)\n",
    "\n",
    "# Create the animation\n",
    "displayInNotebook(viz) do\n",
    "    # Get an initial trace\n",
    "    (tr1, _) = generate(model, (xs,), observations)\n",
    "    tr2 = tr1\n",
    "    \n",
    "    # Visualize the initial trace twice\n",
    "    putTrace!(viz, 1, serialize_trace(tr1))\n",
    "    putTrace!(viz, 2, serialize_trace(tr2))\n",
    "    sleep(1)\n",
    "    \n",
    "    # Improve both traces\n",
    "    for iter = 1:300\n",
    "        # Gaussian drift update in trace 1\n",
    "        tr1 = gaussian_drift_update(tr1)\n",
    "        # Block resimulation update in trace 2\n",
    "        tr2 = block_resimulation_update(tr2)\n",
    "        \n",
    "        # Visualize and sleep for clearer animation\n",
    "        putTrace!(viz, 1, serialize_trace(tr1))\n",
    "        putTrace!(viz, 2, serialize_trace(tr2))\n",
    "        sleep(0.02)\n",
    "    end\n",
    "end"
   ]
  },
  {
   "cell_type": "markdown",
   "metadata": {},
   "source": [
    "<hr />"
   ]
  },
  {
   "cell_type": "markdown",
   "metadata": {},
   "source": [
    "A more quantitative comparison demonstrates that our change has definitely improved our inference quality:"
   ]
  },
  {
   "cell_type": "code",
   "execution_count": 21,
   "metadata": {},
   "outputs": [
    {
     "name": "stdout",
     "output_type": "stream",
     "text": [
      "  1.345722 seconds (7.99 M allocations: 622.180 MiB, 11.48% gc time)\n",
      "  1.160972 seconds (7.99 M allocations: 622.180 MiB, 11.79% gc time)\n",
      "  1.276381 seconds (7.99 M allocations: 622.180 MiB, 11.01% gc time)\n",
      "  1.184232 seconds (7.99 M allocations: 622.180 MiB, 11.53% gc time)\n",
      "  1.176808 seconds (7.99 M allocations: 622.180 MiB, 11.00% gc time)\n",
      "  1.235117 seconds (7.99 M allocations: 622.180 MiB, 11.70% gc time)\n",
      "  1.452469 seconds (7.99 M allocations: 622.180 MiB, 12.65% gc time)\n",
      "  1.141088 seconds (7.99 M allocations: 622.180 MiB, 11.41% gc time)\n",
      "  1.255442 seconds (7.99 M allocations: 622.180 MiB, 10.95% gc time)\n",
      "  1.181976 seconds (7.99 M allocations: 622.180 MiB, 11.32% gc time)\n",
      "Log probability: -46.213102623232814\n"
     ]
    }
   ],
   "source": [
    "Random.seed!(1)\n",
    "function gaussian_drift_inference()\n",
    "    (tr, _) = generate(model, (xs,), observations)\n",
    "    for iter=1:500\n",
    "        tr = gaussian_drift_update(tr)\n",
    "    end\n",
    "    tr\n",
    "end\n",
    "\n",
    "scores = Vector{Float64}(undef, 10)\n",
    "for i=1:10\n",
    "    @time tr = gaussian_drift_inference()\n",
    "    scores[i] = get_score(tr)\n",
    "end\n",
    "println(\"Log probability: \", logmeanexp(scores))"
   ]
  },
  {
   "cell_type": "markdown",
   "metadata": {},
   "source": [
    "## 6. MCMC Inference Part 3: Heuristics to guide the process  <a name=\"mcmc-3\"></a>"
   ]
  },
  {
   "cell_type": "markdown",
   "metadata": {},
   "source": [
    "In this section, we'll look at another strategy for improving MCMC inference: using arbitrary heuristics to make smarter proposals. In particular, we'll use a method called \"Random Sample Consensus\" (or RANSAC) to quickly find promising settings of the slope and intercept parameters.\n",
    "\n",
    "RANSAC works as follows:\n",
    "1. We repeatedly choose a small random subset of the points, say, of size 3.\n",
    "2. We do least-squares linear regression to find a line of best fit for those points.\n",
    "3. We count how many points (from the entire set) are near the line we found.\n",
    "4. After a suitable number of iterations (say, 10), we return the line that had the highest score.\n",
    "\n",
    "Here's our implementation of the algorithm in Julia:"
   ]
  },
  {
   "cell_type": "code",
   "execution_count": 22,
   "metadata": {},
   "outputs": [],
   "source": [
    "import StatsBase\n",
    "\n",
    "struct RANSACParams\n",
    "    # the number of random subsets to try\n",
    "    iters::Int\n",
    "\n",
    "    # the number of points to use to construct a hypothesis\n",
    "    subset_size::Int\n",
    "\n",
    "    # the error threshold below which a datum is considered an inlier\n",
    "    eps::Float64\n",
    "    \n",
    "    function RANSACParams(iters, subset_size, eps)\n",
    "        if iters < 1\n",
    "            error(\"iters < 1\")\n",
    "        end\n",
    "        new(iters, subset_size, eps)\n",
    "    end\n",
    "end\n",
    "\n",
    "\n",
    "function ransac(xs::Vector{Float64}, ys::Vector{Float64}, params::RANSACParams)\n",
    "    best_num_inliers::Int = -1\n",
    "    best_slope::Float64 = NaN\n",
    "    best_intercept::Float64 = NaN\n",
    "    for i=1:params.iters\n",
    "        # select a random subset of points\n",
    "        rand_ind = StatsBase.sample(1:length(xs), params.subset_size, replace=false)\n",
    "        subset_xs = xs[rand_ind]\n",
    "        subset_ys = ys[rand_ind]\n",
    "        \n",
    "        # estimate slope and intercept using least squares\n",
    "        A = hcat(subset_xs, ones(length(subset_xs)))\n",
    "        slope, intercept = A\\subset_ys\n",
    "        \n",
    "        ypred = intercept .+ slope * xs\n",
    "\n",
    "        # count the number of inliers for this (slope, intercept) hypothesis\n",
    "        inliers = abs.(ys - ypred) .< params.eps\n",
    "        num_inliers = sum(inliers)\n",
    "\n",
    "        if num_inliers > best_num_inliers\n",
    "            best_slope, best_intercept = slope, intercept\n",
    "            best_num_inliers = num_inliers\n",
    "        end\n",
    "    end\n",
    "\n",
    "    # return the hypothesis that resulted in the most inliers\n",
    "    (best_slope, best_intercept)\n",
    "end;"
   ]
  },
  {
   "cell_type": "markdown",
   "metadata": {},
   "source": [
    "We can now wrap it in a Gen proposal that calls out to RANSAC, then samples a slope and intercept near the one it proposed."
   ]
  },
  {
   "cell_type": "code",
   "execution_count": 23,
   "metadata": {},
   "outputs": [],
   "source": [
    "@gen function ransac_proposal(prev_trace, xs, ys)\n",
    "    (slope, intercept) = ransac(xs, ys, RANSACParams(10, 3, 1.))\n",
    "    @trace(normal(slope, 0.1), :slope)\n",
    "    @trace(normal(intercept, 1.0), :intercept)\n",
    "end;"
   ]
  },
  {
   "cell_type": "markdown",
   "metadata": {},
   "source": [
    "(Notice that although `ransac` makes random choices, they are not addressed (and they happen outside of a Gen generative function), so Gen cannot reason about them. This is OK (see [Using probabilistic programs as proposals](https://arxiv.org/abs/1801.03612)). Writing proposals that have traced internal randomness (i.e., that make traced random choices that are not directly used in the proposal) can lead to better inference, but requires the use of a more complex version of Gen's `mh` operator, which is beyond the scope of this tutorial.)"
   ]
  },
  {
   "cell_type": "markdown",
   "metadata": {},
   "source": [
    "One iteration of our update algorithm will now look like this:"
   ]
  },
  {
   "cell_type": "code",
   "execution_count": 24,
   "metadata": {},
   "outputs": [
    {
     "data": {
      "text/plain": [
       "ransac_update (generic function with 1 method)"
      ]
     },
     "execution_count": 24,
     "metadata": {},
     "output_type": "execute_result"
    }
   ],
   "source": [
    "function ransac_update(tr)\n",
    "    # Use RANSAC to (potentially) jump to a better line\n",
    "    # from wherever we are\n",
    "    (tr, _) = mh(tr, ransac_proposal, (xs, ys))\n",
    "    \n",
    "    # Spend a while refining the parameters, using Gaussian drift\n",
    "    # to tune the slope and intercept, and resimulation for the noise\n",
    "    # and outliers.\n",
    "    for j=1:20\n",
    "        (tr, _) = mh(tr, select(:prob_outlier))\n",
    "        (tr, _) = mh(tr, select(:noise))\n",
    "        (tr, _) = mh(tr, line_proposal, ())\n",
    "        # Reclassify outliers\n",
    "        for i=1:length(get_args(tr)[1])\n",
    "            (tr, _) = mh(tr, select(:data => i => :is_outlier))\n",
    "        end\n",
    "    end\n",
    "    tr\n",
    "end"
   ]
  },
  {
   "cell_type": "markdown",
   "metadata": {},
   "source": [
    "We can now run our main loop for just 5 iterations, and achieve pretty good results. (Of course, since we do 20 inner loop iterations in `ransac_update`, this is really closer to 100 iterations.) The running time is significantly lower than before, without a real dip in quality:"
   ]
  },
  {
   "cell_type": "code",
   "execution_count": 25,
   "metadata": {},
   "outputs": [
    {
     "name": "stdout",
     "output_type": "stream",
     "text": [
      "  0.589863 seconds (1.95 M allocations: 150.804 MiB, 7.66% gc time)\n",
      "  0.240180 seconds (1.61 M allocations: 133.053 MiB, 8.98% gc time)\n",
      "  0.260140 seconds (1.61 M allocations: 133.053 MiB, 8.73% gc time)\n",
      "  0.246929 seconds (1.61 M allocations: 133.053 MiB, 9.09% gc time)\n",
      "  0.314021 seconds (1.61 M allocations: 133.053 MiB, 8.05% gc time)\n",
      "  0.298460 seconds (1.61 M allocations: 133.053 MiB, 10.29% gc time)\n",
      "  0.367927 seconds (1.61 M allocations: 133.053 MiB, 8.75% gc time)\n",
      "  0.333690 seconds (1.61 M allocations: 133.053 MiB, 9.02% gc time)\n",
      "  0.400666 seconds (1.61 M allocations: 133.053 MiB, 7.78% gc time)\n",
      "  0.238959 seconds (1.61 M allocations: 133.053 MiB, 9.96% gc time)\n",
      "Log probability: -46.596568299346266\n"
     ]
    }
   ],
   "source": [
    "function ransac_inference()\n",
    "    \n",
    "    (slope, intercept) = ransac(xs, ys, RANSACParams(10, 3, 1.))\n",
    "    slope_intercept_init = choicemap()\n",
    "    slope_intercept_init[:slope] = slope\n",
    "    slope_intercept_init[:intercept] = intercept\n",
    "    (tr, _) = generate(model, (xs,), merge(observations, slope_intercept_init))\n",
    "    for iter=1:5\n",
    "        tr = ransac_update(tr)\n",
    "    end\n",
    "    tr\n",
    "end\n",
    "\n",
    "scores = Vector{Float64}(undef, 10)\n",
    "for i=1:10\n",
    "    @time tr = ransac_inference()\n",
    "    scores[i] = get_score(tr)\n",
    "end\n",
    "println(\"Log probability: \", logmeanexp(scores))"
   ]
  },
  {
   "cell_type": "markdown",
   "metadata": {},
   "source": [
    "Let's visualize the algorithm:"
   ]
  },
  {
   "cell_type": "code",
   "execution_count": 26,
   "metadata": {},
   "outputs": [
    {
     "data": {
      "text/html": [
       "<div data-v-2e966a4f=\"\"><h1 data-v-2e966a4f=\"\">Traces</h1><div data-v-2e966a4f=\"\" id=\"traces\"><div data-v-2e966a4f=\"\"><svg data-v-2e966a4f=\"\" height=\"500\" width=\"500\" xmlns=\"http://www.w3.org/2000/svg\" xmlns:xlink=\"http://www.w3.org/1999/xlink\" version=\"1.1\"><circle cx=\"50\" cy=\"50\" r=\"3\" fill=\"blue\"></circle><circle cx=\"71.05263157894737\" cy=\"66.27047261055083\" r=\"3\" fill=\"blue\"></circle><circle cx=\"92.10526315789474\" cy=\"74.49956953066254\" r=\"3\" fill=\"blue\"></circle><circle cx=\"113.15789473684211\" cy=\"115.36876366736863\" r=\"3\" fill=\"red\"></circle><circle cx=\"134.21052631578948\" cy=\"96.84251719721914\" r=\"3\" fill=\"blue\"></circle><circle cx=\"155.26315789473688\" cy=\"102.704516944148\" r=\"3\" fill=\"blue\"></circle><circle cx=\"176.31578947368422\" cy=\"131.27535113216123\" r=\"3\" fill=\"blue\"></circle><circle cx=\"197.36842105263156\" cy=\"137.81232144411513\" r=\"3\" fill=\"blue\"></circle><circle cx=\"218.42105263157893\" cy=\"169.059573937705\" r=\"3\" fill=\"blue\"></circle><circle cx=\"239.4736842105263\" cy=\"297.1709309857639\" r=\"3\" fill=\"red\"></circle><circle cx=\"260.52631578947376\" cy=\"163.83087706042068\" r=\"3\" fill=\"blue\"></circle><circle cx=\"281.57894736842104\" cy=\"178.43830871419988\" r=\"3\" fill=\"blue\"></circle><circle cx=\"302.63157894736844\" cy=\"61.4021312345003\" r=\"3\" fill=\"red\"></circle><circle cx=\"323.6842105263158\" cy=\"295.8012003051506\" r=\"3\" fill=\"red\"></circle><circle cx=\"344.7368421052631\" cy=\"220.78313119880875\" r=\"3\" fill=\"blue\"></circle><circle cx=\"365.7894736842105\" cy=\"450\" r=\"3\" fill=\"red\"></circle><circle cx=\"386.84210526315786\" cy=\"74.28828798997966\" r=\"3\" fill=\"red\"></circle><circle cx=\"407.89473684210526\" cy=\"247.13626024756127\" r=\"3\" fill=\"red\"></circle><circle cx=\"428.9473684210526\" cy=\"284.5599820111531\" r=\"3\" fill=\"blue\"></circle><circle cx=\"450\" cy=\"299.7226567731226\" r=\"3\" fill=\"blue\"></circle><polygon points=\"-200,-131.24775616697582 700,429.0628738912877 700,469.8572318663782 -200,-90.45339819188541\" style=\"fill: rgba(0, 0, 0, 0.3);\"></polygon><line x1=\"0\" y1=\"211.89054616889567\" x2=\"500\" y2=\"211.89054616889567\" style=\"stroke: rgba(0, 0, 0, 0.1); stroke-width: 900.493px;\"></line><line x1=\"-200\" y1=\"-110.85057717943073\" x2=\"700\" y2=\"449.460052878833\" style=\"stroke: rgba(0, 0, 0, 0.7); stroke-width: 2px;\"></line></svg></div></div></div><style>body, html { margin-left: 0px; margin-right: 0px; }\n",
       "h1[data-v-2e966a4f] { font-family: Avenir, Helvetica, Arial, sans-serif; text-align: center; }\n",
       "#traces[data-v-2e966a4f] { display: flex; -moz-box-orient: horizontal; -moz-box-direction: normal; flex-flow: row wrap; }\n",
       "#app { font-family: Avenir, Helvetica, Arial, sans-serif; -moz-osx-font-smoothing: grayscale; color: rgb(44, 62, 80); }</style>"
      ]
     },
     "metadata": {},
     "output_type": "display_data"
    }
   ],
   "source": [
    "viz = Viz(server, joinpath(@__DIR__, \"regression-viz/dist\"), [xs, ys])\n",
    "displayInNotebook(viz) do\n",
    "    (slope, intercept) = ransac(xs, ys, RANSACParams(10, 3, 1.))\n",
    "    slope_intercept_init = choicemap()\n",
    "    slope_intercept_init[:slope] = slope\n",
    "    slope_intercept_init[:intercept] = intercept\n",
    "    (tr, _) = generate(model, (xs,), merge(observations, slope_intercept_init))\n",
    "    putTrace!(viz, \"t\", serialize_trace(tr))\n",
    "    for iter = 1:5\n",
    "        (tr, _) = mh(tr, ransac_proposal, (xs, ys))\n",
    "    \n",
    "        # Spend a while refining the parameters, using Gaussian drift\n",
    "        # to tune the slope and intercept, and resimulation for the noise\n",
    "        # and outliers.\n",
    "        for j=1:20\n",
    "            (tr, _) = mh(tr, select(:prob_outlier))\n",
    "            (tr, _) = mh(tr, select(:noise))\n",
    "            (tr, _) = mh(tr, line_proposal, ())\n",
    "            # Reclassify outliers\n",
    "            for i=1:length(get_args(tr)[1])\n",
    "                (tr, _) = mh(tr, select(:data => i => :is_outlier))\n",
    "            end\n",
    "            putTrace!(viz, \"t\", serialize_trace(tr))\n",
    "            sleep(0.1)\n",
    "        end\n",
    "    end\n",
    "end"
   ]
  },
  {
   "cell_type": "markdown",
   "metadata": {},
   "source": [
    "### To ponder: Initialization\n",
    "\n",
    "In our inference program above, when generating an initial trace on which to iterate, we initialize the slope and intercept to values proposed by RANSAC. If don't do this, e.g. instead initialize with a sample from the prior, the performance decreases sharply, despite the fact that we still propose new slope/intercept pairs from RANSAC once the loop starts. Why is this?"
   ]
  },
  {
   "cell_type": "markdown",
   "metadata": {},
   "source": [
    "## 7. MAP Optimization: we'll skip this  <a name=\"map\"></a>"
   ]
  },
  {
   "cell_type": "markdown",
   "metadata": {},
   "source": [
    "Everything we've done so far has been within the MCMC framework. But sometimes you're not interested in getting posterior samples—sometimes you just want a single likely explanation for your data. Gen also provides tools for _maximum a posteriori_ estimation (\"MAP estimation\"), the problem of finding a trace that maximizes the posterior probability under the model given observations."
   ]
  },
  {
   "cell_type": "markdown",
   "metadata": {},
   "source": [
    "For example, let's say we wanted to take a trace and assign each point's `is_outlier` score to the most likely possibility. We can do this by iterating over both possible traces, scoring them, and choosing the one with the higher score. We can do this using Gen's [`update`](https://probcomp.github.io/Gen/dev/ref/gfi/#Update-1) function, which allows us to manually update a trace to satisfy some constraints:"
   ]
  },
  {
   "cell_type": "code",
   "execution_count": 27,
   "metadata": {},
   "outputs": [
    {
     "data": {
      "text/plain": [
       "is_outlier_map_update (generic function with 1 method)"
      ]
     },
     "execution_count": 27,
     "metadata": {},
     "output_type": "execute_result"
    }
   ],
   "source": [
    "function is_outlier_map_update(tr)\n",
    "    (xs,) = get_args(tr)\n",
    "    for i=1:length(xs)\n",
    "        constraints = choicemap(:prob_outlier => 0.1)\n",
    "        constraints[:data => i => :is_outlier] = false\n",
    "        (trace1,) = update(tr, (xs,), (NoChange(),), constraints)\n",
    "        constraints[:data => i => :is_outlier] = true\n",
    "        (trace2,) = update(tr, (xs,), (NoChange(),), constraints)\n",
    "        tr = (get_score(trace1) > get_score(trace2)) ? trace1 : trace2\n",
    "    end\n",
    "    tr\n",
    "end"
   ]
  },
  {
   "cell_type": "markdown",
   "metadata": {},
   "source": [
    "For continuous parameters, we can use Gen's `map_optimize` function, which uses automatic differentiation to shift the selected parameters in the direction that causes the probability of the trace to increase most sharply:\n",
    "\n",
    "```julia\n",
    "tr = map_optimize(tr, select(:slope, :intercept), max_step_size=1., min_step_size=1e-5)\n",
    "```\n",
    "\n",
    "Putting these updates together, we can write an inference program that uses our RANSAC algorithm from above to get an initial trace, then tunes it using optimization:"
   ]
  },
  {
   "cell_type": "code",
   "execution_count": 28,
   "metadata": {},
   "outputs": [
    {
     "data": {
      "text/html": [
       "<div data-v-2e966a4f=\"\"><h1 data-v-2e966a4f=\"\">Traces</h1><div data-v-2e966a4f=\"\" id=\"traces\"><div data-v-2e966a4f=\"\"><svg data-v-2e966a4f=\"\" height=\"500\" width=\"500\" xmlns=\"http://www.w3.org/2000/svg\" xmlns:xlink=\"http://www.w3.org/1999/xlink\" version=\"1.1\"><circle cx=\"50\" cy=\"50\" r=\"3\" fill=\"blue\"></circle><circle cx=\"71.05263157894737\" cy=\"66.27047261055083\" r=\"3\" fill=\"blue\"></circle><circle cx=\"92.10526315789474\" cy=\"74.49956953066254\" r=\"3\" fill=\"blue\"></circle><circle cx=\"113.15789473684211\" cy=\"115.36876366736863\" r=\"3\" fill=\"blue\"></circle><circle cx=\"134.21052631578948\" cy=\"96.84251719721914\" r=\"3\" fill=\"blue\"></circle><circle cx=\"155.26315789473688\" cy=\"102.704516944148\" r=\"3\" fill=\"blue\"></circle><circle cx=\"176.31578947368422\" cy=\"131.27535113216123\" r=\"3\" fill=\"blue\"></circle><circle cx=\"197.36842105263156\" cy=\"137.81232144411513\" r=\"3\" fill=\"blue\"></circle><circle cx=\"218.42105263157893\" cy=\"169.059573937705\" r=\"3\" fill=\"blue\"></circle><circle cx=\"239.4736842105263\" cy=\"297.1709309857639\" r=\"3\" fill=\"red\"></circle><circle cx=\"260.52631578947376\" cy=\"163.83087706042068\" r=\"3\" fill=\"blue\"></circle><circle cx=\"281.57894736842104\" cy=\"178.43830871419988\" r=\"3\" fill=\"blue\"></circle><circle cx=\"302.63157894736844\" cy=\"61.4021312345003\" r=\"3\" fill=\"red\"></circle><circle cx=\"323.6842105263158\" cy=\"295.8012003051506\" r=\"3\" fill=\"red\"></circle><circle cx=\"344.7368421052631\" cy=\"220.78313119880875\" r=\"3\" fill=\"blue\"></circle><circle cx=\"365.7894736842105\" cy=\"450\" r=\"3\" fill=\"red\"></circle><circle cx=\"386.84210526315786\" cy=\"74.28828798997966\" r=\"3\" fill=\"red\"></circle><circle cx=\"407.89473684210526\" cy=\"247.13626024756127\" r=\"3\" fill=\"blue\"></circle><circle cx=\"428.9473684210526\" cy=\"284.5599820111531\" r=\"3\" fill=\"blue\"></circle><circle cx=\"450\" cy=\"299.7226567731226\" r=\"3\" fill=\"blue\"></circle><polygon points=\"-200,-114.30275839403623 700,410.42226987040436 700,455.05133570477057 -200,-69.67369255967003\" style=\"fill: rgba(0, 0, 0, 0.3);\"></polygon><line x1=\"0\" y1=\"211.89054616889567\" x2=\"500\" y2=\"211.89054616889567\" style=\"stroke: rgba(0, 0, 0, 0.1); stroke-width: 900.493px;\"></line><line x1=\"-200\" y1=\"-91.98822547685313\" x2=\"700\" y2=\"432.73680278758746\" style=\"stroke: rgba(0, 0, 0, 0.7); stroke-width: 2px;\"></line></svg></div></div></div><style>body, html { margin-left: 0px; margin-right: 0px; }\n",
       "h1[data-v-2e966a4f] { font-family: Avenir, Helvetica, Arial, sans-serif; text-align: center; }\n",
       "#traces[data-v-2e966a4f] { display: flex; -moz-box-orient: horizontal; -moz-box-direction: normal; flex-flow: row wrap; }\n",
       "#app { font-family: Avenir, Helvetica, Arial, sans-serif; -moz-osx-font-smoothing: grayscale; color: rgb(44, 62, 80); }</style>"
      ]
     },
     "metadata": {},
     "output_type": "display_data"
    },
    {
     "name": "stdout",
     "output_type": "stream",
     "text": [
      "Score after ransac: -47.06086918848944. Final score: -43.746456259616615.\n"
     ]
    }
   ],
   "source": [
    "viz = Viz(server, joinpath(@__DIR__, \"regression-viz/dist\"), [xs, ys])\n",
    "ransac_score, final_score = displayInNotebook(viz) do\n",
    "    (slope, intercept) = ransac(xs, ys, RANSACParams(10, 3, 1.))\n",
    "    slope_intercept_init = choicemap()\n",
    "    slope_intercept_init[:slope] = slope\n",
    "    slope_intercept_init[:intercept] = intercept\n",
    "    (tr,) = generate(model, (xs,), merge(observations, slope_intercept_init))\n",
    "    sleep(1)\n",
    "    putTrace!(viz, \"t\", serialize_trace(tr))\n",
    "    for iter=1:5\n",
    "        tr = ransac_update(tr)\n",
    "        putTrace!(viz, \"t\", serialize_trace(tr))\n",
    "        sleep(0.1)\n",
    "    end\n",
    "    ransac_score = get_score(tr)\n",
    "    sleep(1)\n",
    "    for iter = 1:30\n",
    "        # Take a single gradient step on the line parameters.\n",
    "        tr = map_optimize(tr, select(:slope, :intercept), max_step_size=1., min_step_size=1e-5)\n",
    "        tr = map_optimize(tr, select(:noise), max_step_size=1., min_step_size=1e-5)\n",
    "        \n",
    "        # Choose the most likely classification of outliers.\n",
    "        tr = is_outlier_map_update(tr)\n",
    "        \n",
    "        # Update the prob outlier\n",
    "        choices = get_choices(tr)\n",
    "        optimal_prob_outlier = count(i -> choices[:data => i => :is_outlier], 1:length(xs)) / length(xs)\n",
    "        optimal_prob_outlier = min(0.5, max(0.05, optimal_prob_outlier))\n",
    "        (tr, _) = update(tr, (xs,), (NoChange(),), choicemap(:prob_outlier => optimal_prob_outlier))\n",
    "        \n",
    "        # Visualize and sleep for clearer animation\n",
    "        putTrace!(viz, \"t\", serialize_trace(tr))\n",
    "        sleep(0.1)\n",
    "    end\n",
    "    final_score = get_score(tr)\n",
    "    ransac_score, final_score\n",
    "end\n",
    "\n",
    "println(\"Score after ransac: $(ransac_score). Final score: $(final_score).\")"
   ]
  },
  {
   "cell_type": "markdown",
   "metadata": {},
   "source": [
    "Below, we evaluate the algorithm and we see that it gets our best scores yet, which is what it's meant to do:"
   ]
  },
  {
   "cell_type": "code",
   "execution_count": 29,
   "metadata": {},
   "outputs": [
    {
     "name": "stdout",
     "output_type": "stream",
     "text": [
      "  0.488686 seconds (3.21 M allocations: 241.978 MiB, 10.99% gc time)\n",
      "  0.731269 seconds (3.18 M allocations: 240.653 MiB, 10.16% gc time)\n",
      "  0.796921 seconds (3.18 M allocations: 240.653 MiB, 8.51% gc time)\n",
      "  0.550267 seconds (3.18 M allocations: 240.386 MiB, 12.03% gc time)\n",
      "  0.475707 seconds (3.18 M allocations: 240.119 MiB, 9.93% gc time)\n",
      "  0.816752 seconds (3.18 M allocations: 240.208 MiB, 8.59% gc time)\n",
      "  0.631787 seconds (3.19 M allocations: 240.920 MiB, 8.96% gc time)\n",
      "  0.465702 seconds (3.19 M allocations: 241.187 MiB, 9.87% gc time)\n",
      "  0.466471 seconds (3.19 M allocations: 240.832 MiB, 9.93% gc time)\n",
      "  0.627497 seconds (3.06 M allocations: 232.113 MiB, 10.56% gc time)\n",
      "-43.77788482006957\n"
     ]
    }
   ],
   "source": [
    "function map_inference()\n",
    "    (slope, intercept) = ransac(xs, ys, RANSACParams(10, 3, 1.))\n",
    "    slope_intercept_init = choicemap()\n",
    "    slope_intercept_init[:slope] = slope\n",
    "    slope_intercept_init[:intercept] = intercept\n",
    "    (tr, _) = generate(model, (xs,), merge(observations, slope_intercept_init))\n",
    "    for iter=1:5\n",
    "        tr = ransac_update(tr)\n",
    "    end\n",
    "    \n",
    "    for iter = 1:20\n",
    "        # Take a single gradient step on the line parameters.\n",
    "        tr = map_optimize(tr, select(:slope, :intercept), max_step_size=1., min_step_size=1e-5)\n",
    "        tr = map_optimize(tr, select(:noise), max_step_size=1., min_step_size=1e-5)\n",
    "        \n",
    "        # Choose the most likely classification of outliers.\n",
    "        tr = is_outlier_map_update(tr)\n",
    "        \n",
    "        # Update the prob outlier\n",
    "        choices = get_choices(tr)\n",
    "        optimal_prob_outlier = count(i -> choices[:data => i => :is_outlier], 1:length(xs)) / length(xs)\n",
    "        optimal_prob_outlier = min(0.5, max(0.05, optimal_prob_outlier))\n",
    "        (tr, _) = update(tr, (xs,), (NoChange(),), choicemap(:prob_outlier => optimal_prob_outlier))        \n",
    "    end\n",
    "    tr\n",
    "end\n",
    "\n",
    "scores = Vector{Float64}(undef, 10)\n",
    "for i=1:10\n",
    "    @time tr = map_inference()\n",
    "    scores[i] = get_score(tr)\n",
    "end\n",
    "println(logmeanexp(scores))"
   ]
  },
  {
   "cell_type": "markdown",
   "metadata": {},
   "source": [
    "This doesn't necessarily mean that it's \"better,\" though. It finds the most probable explanation of the data, which is a different problem from the one we tackled with MCMC inference. There, the goal was to sample from the posterior, which allows us to better characterize our uncertainty. Using MCMC, there might be a borderline point that is sometimes classified as an outlier and sometimes not, reflecting our uncertainty; with MAP optimization, we will always be shown the most probable answer."
   ]
  }
 ],
 "metadata": {
  "jupytext": {
   "encoding": "# -*- coding: utf-8 -*-"
  },
  "kernelspec": {
   "display_name": "Julia 1.1.0",
   "language": "julia",
   "name": "julia-1.1"
  },
  "language_info": {
   "file_extension": ".jl",
   "mimetype": "application/julia",
   "name": "julia",
   "version": "1.1.0"
  }
 },
 "nbformat": 4,
 "nbformat_minor": 2
}
